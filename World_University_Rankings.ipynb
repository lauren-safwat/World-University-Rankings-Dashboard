{
  "cells": [
    {
      "cell_type": "markdown",
      "metadata": {
        "id": "view-in-github",
        "colab_type": "text"
      },
      "source": [
        "<a href=\"https://colab.research.google.com/github/lauren-safwat/World-University-Rankings-Dashboard/blob/main/World_University_Rankings.ipynb\" target=\"_parent\"><img src=\"https://colab.research.google.com/assets/colab-badge.svg\" alt=\"Open In Colab\"/></a>"
      ]
    },
    {
      "cell_type": "code",
      "execution_count": 242,
      "metadata": {
        "id": "X17hhcl0QFfi"
      },
      "outputs": [],
      "source": [
        "# !pip3 install dash\n",
        "# !pip3 install jupyter_dash\n",
        "# !pip3 install dash_bootstrap_components\n",
        "# !pip install dash-trich-components"
      ]
    },
    {
      "cell_type": "code",
      "execution_count": 243,
      "metadata": {
        "id": "ZnWq2iRlUMkG"
      },
      "outputs": [],
      "source": [
        "import pandas as pd\n",
        "import numpy as np\n",
        "import matplotlib.pyplot as plt\n",
        "\n",
        "import jupyter_dash\n",
        "from dash import Dash, html, dcc, no_update\n",
        "from dash.dependencies import Input, Output, State\n",
        "from dash.exceptions import PreventUpdate\n",
        "import dash_bootstrap_components as dbc\n",
        "import dash_trich_components as dtc\n",
        "\n",
        "import plotly.express as px\n",
        "import plotly.graph_objs as go\n",
        "from plotly.subplots import make_subplots\n",
        "\n",
        "from math import ceil\n",
        "from itertools import cycle"
      ]
    },
    {
      "cell_type": "code",
      "source": [
        "# import shutil\n",
        "# shutil.rmtree('/content/World-University-Rankings-Dashboard')"
      ],
      "metadata": {
        "id": "KGV6qPnMJ-QL"
      },
      "execution_count": 244,
      "outputs": []
    },
    {
      "cell_type": "code",
      "execution_count": 245,
      "metadata": {
        "id": "HKR9n9MP-mdP"
      },
      "outputs": [],
      "source": [
        "# !git clone https://github.com/lauren-safwat/World-University-Rankings-Dashboard"
      ]
    },
    {
      "cell_type": "code",
      "source": [
        "%cd /content/World-University-Rankings-Dashboard\n",
        "unis = pd.read_csv('dataset/World_University_Rankings.csv')"
      ],
      "metadata": {
        "colab": {
          "base_uri": "https://localhost:8080/"
        },
        "id": "YzZiWtvDKLpw",
        "outputId": "76edf641-a993-4374-b9d8-b914feae66c3"
      },
      "execution_count": 246,
      "outputs": [
        {
          "output_type": "stream",
          "name": "stdout",
          "text": [
            "/content/World-University-Rankings-Dashboard\n"
          ]
        }
      ]
    },
    {
      "cell_type": "code",
      "execution_count": 247,
      "metadata": {
        "id": "aPKq_gZdY1VH"
      },
      "outputs": [],
      "source": [
        "app = jupyter_dash.JupyterDash(external_stylesheets=[dbc.themes.BOOTSTRAP, 'assets/css/style.css'], suppress_callback_exceptions=True)"
      ]
    },
    {
      "cell_type": "markdown",
      "source": [
        "# **Distribution of universities across the world page**"
      ],
      "metadata": {
        "id": "UzKNFQ4mQms6"
      }
    },
    {
      "cell_type": "code",
      "execution_count": 241,
      "metadata": {
        "id": "Gp5RrF-hGIf5",
        "outputId": "afc77194-324b-479a-f917-a5f14a0a2250",
        "colab": {
          "base_uri": "https://localhost:8080/"
        }
      },
      "outputs": [
        {
          "output_type": "error",
          "ename": "SyntaxError",
          "evalue": "ignored",
          "traceback": [
            "\u001b[0;36m  File \u001b[0;32m\"<ipython-input-241-9a1a9844dff4>\"\u001b[0;36m, line \u001b[0;32m3\u001b[0m\n\u001b[0;31m    dbc.Row([\u001b[0m\n\u001b[0m      ^\u001b[0m\n\u001b[0;31mSyntaxError\u001b[0m\u001b[0;31m:\u001b[0m invalid syntax\n"
          ]
        }
      ],
      "source": [
        "world = dbc.Container([\n",
        "    dbc.Row(html.H1('Distribution of Universities Across the Torld')),\n",
        "    dbc.Row([\n",
        "        dbc.Col(dcc.Graph(id='map', figure={}), width=9),\n",
        "        dbc.Col(html.Div(id='table', style={'maxHeight': '450px', 'overflowY': 'scroll'}),width=3)\n",
        "    ], id='map_table'),\n",
        "\n",
        "    dbc.Row([\n",
        "        dbc.Col(dcc.Slider(id='mapSlider',\n",
        "                  min=2017,\n",
        "                  max=2022,\n",
        "                  value=2022,\n",
        "                  step=None,\n",
        "                  marks={i: str(i) for i in range(2017, 2023)}\n",
        "                  ), width=6),\n",
        "             \n",
        "        dbc.Col(dcc.Dropdown([str(region) for region in unis['Region'].unique()], placeholder='Select Region', id='map_region'), width=2),\n",
        "        dbc.Col(dcc.Dropdown(placeholder='Select Country', id='map_country'),width=2),\n",
        "        dbc.Col(dcc.Checklist([\n",
        "            {'label': 'Private Universities', 'value': 'Private'},\n",
        "            {'label': 'Public Universities', 'value': 'Public'},\n",
        "        ],\n",
        "        id='checklist'\n",
        "      ),width=2)\n",
        "    ],id='controls_row'),\n",
        "    \n",
        "\n",
        "    dbc.Row([\n",
        "        dbc.Col(\n",
        "            dbc.Row(dcc.Graph(id='bar_uniCount', figure={})),\n",
        "            width=4\n",
        "        ),\n",
        "\n",
        "        dbc.Col(\n",
        "            dbc.Row(dcc.Graph(id='bar_intCount', figure={})),\n",
        "            width=4\n",
        "        ),\n",
        "        dbc.Col(\n",
        "            dbc.Row(dcc.Graph(id='pie_type', figure={})),\n",
        "            width=4\n",
        "        )\n",
        "      ]),\n",
        "    \n",
        "    ])"
      ]
    },
    {
      "cell_type": "code",
      "execution_count": 248,
      "metadata": {
        "id": "wAWl6M9LbdP7"
      },
      "outputs": [],
      "source": [
        "@app.callback(\n",
        "    Output('map_country', 'options'),\n",
        "    Output('map', 'figure'),\n",
        "    Output(\"table\", \"children\"),\n",
        "    Input('mapSlider', 'value'),\n",
        "    Input('map_region', 'value'),\n",
        "    Input('map_country', 'value'),\n",
        "    Input('checklist', 'value')\n",
        ")\n",
        "\n",
        "\n",
        "def updateMap(year, region, country,priv):\n",
        "    year = 'Rank_' + str(year)\n",
        "    df = unis[unis[year] > 0].sort_values(year, axis=0)\n",
        "    print\n",
        "    zoom = 0.1\n",
        "\n",
        "    if region:\n",
        "        zoom = 1.3\n",
        "        df = df[df['Region'] == region]\n",
        "\n",
        "    if country:\n",
        "        zoom = 2.5\n",
        "        df = df[df['Country'] == country]\n",
        "    if(priv):\n",
        "      df=df[df['Type'].isin(priv)]\n",
        "\n",
        "    \n",
        "    fig = px.scatter_mapbox(df[:100],\n",
        "                            lon='Longitude',\n",
        "                            lat='Latitude',\n",
        "                            color=year,\n",
        "                            hover_name='University',\n",
        "                            hover_data={'Latitude':False, 'Longitude':False, 'Country':True,'City':True},\n",
        "                            zoom=zoom,\n",
        "                            title = 'Ranking of Universities Around the World',\n",
        "                            mapbox_style='carto-positron',\n",
        "                            color_continuous_scale=px.colors.sequential.deep_r,\n",
        "                            )\n",
        "    \n",
        "    fig.update_traces(marker = {'size':10, 'opacity':0.5}, selector={'type': 'scattermapbox'})\n",
        "\n",
        "    countries = [{'label': str(i), 'value':str(i)} for i in df['Country'].unique()]\n",
        "\n",
        "    table = dbc.Table.from_dataframe(df[[year, 'University']], striped=True, bordered=True, hover=True, responsive=True)\n",
        "    \n",
        "    return countries, fig, table"
      ]
    },
    {
      "cell_type": "code",
      "execution_count": 249,
      "metadata": {
        "id": "eG371q5RgkMH"
      },
      "outputs": [],
      "source": [
        "@app.callback(\n",
        "    Output('bar_uniCount', 'figure'),\n",
        "    Input('map_region', 'value'),\n",
        "    Input('checklist', 'value')\n",
        ")\n",
        "\n",
        "def updateBar1(region, priv):\n",
        "\n",
        "    #countries = [{'label': str(i), 'value':str(i)} for i in unis['Country'].unique()]\n",
        "    x=unis.groupby(['Region'])['University'].count()\n",
        "    y=x.keys()\n",
        "    text1 = 'Region'    \n",
        "    df=unis\n",
        "    if(priv):\n",
        "      df=df[df['Type'].isin(priv)]\n",
        "      x=df.groupby(['Region'])['University'].count()\n",
        "      y=x.keys()\n",
        "    if region:\n",
        "        df = df[df['Region'] == region]\n",
        "        #countries = [{'label': str(i), 'value':str(i)} for i in df['Country'].unique()]\n",
        "        x=df.groupby(['Country'])['University'].count()\n",
        "        y=x.keys()\n",
        "        text1 = 'Country'\n",
        "    sortd = sorted(zip(x,y))\n",
        "    x = [i[0] for i in sortd]\n",
        "    y = [i[1] for i in sortd]\n",
        "        \n",
        "    fig = go.Figure(go.Bar(\n",
        "                x=list(x),\n",
        "                y=list(y),\n",
        "                orientation='h',\n",
        "                text=x,\n",
        "                hovertemplate = \"<br>\"+text1+\": %{y} </br> Count:%{text}<extra></extra>\",\n",
        "                marker={\n",
        "                'color': x,\n",
        "                'colorscale': 'bluyl'\n",
        "                }))\n",
        "    fig.update_layout(title=\"University Count\",\n",
        "                      barmode='group',\n",
        "                      bargap=0.0,\n",
        "                      bargroupgap=0.0\n",
        "                     )\n",
        "    return fig"
      ]
    },
    {
      "cell_type": "code",
      "execution_count": 250,
      "metadata": {
        "id": "P5wZnKQTmq57"
      },
      "outputs": [],
      "source": [
        "@app.callback(\n",
        "    Output('bar_intCount', 'figure'),\n",
        "    Input('map_region', 'value'),\n",
        "    Input('checklist', 'value')\n",
        ")\n",
        "\n",
        "def updateBar2(region,priv):\n",
        "\n",
        "    #countries = [{'label': str(i), 'value':str(i)} for i in unis['Country'].unique()]\n",
        "    x=unis.groupby(['Region'])['International_Students'].sum()\n",
        "    y=x.keys()\n",
        "    text1 = 'Region'    \n",
        "    df=unis\n",
        "    if(priv):\n",
        "      df=df[df['Type'].isin(priv)]\n",
        "      x=df.groupby(['Region'])['International_Students'].sum()\n",
        "      y=x.keys()\n",
        "\n",
        "    if region:\n",
        "        text1 = 'Country'\n",
        "        df = df[df['Region'] == region]\n",
        "        #countries = [{'label': str(i), 'value':str(i)} for i in df['Country'].unique()]\n",
        "        x=df.groupby(['Country'])['International_Students'].sum()\n",
        "        y=x.keys()\n",
        "    sortd = sorted(zip(x,y))\n",
        "    x = [i[0] for i in sortd]\n",
        "    y = [i[1] for i in sortd]\n",
        "    \n",
        "    fig = go.Figure(go.Bar(\n",
        "                x=list(x),\n",
        "                y=list(y),\n",
        "                orientation='h',\n",
        "                text=x,\n",
        "                hovertemplate = \"<br>\"+text1+\": %{y} </br> Count:%{text}<extra></extra>\",\n",
        "                marker={\n",
        "                'color': x,\n",
        "                'colorscale': 'bluyl'\n",
        "                }))\n",
        "    fig.update_layout(title=\"Number of International Students\",\n",
        "                      barmode='group',\n",
        "                      bargap=0.0,\n",
        "                      bargroupgap=0.0)\n",
        "    return fig"
      ]
    },
    {
      "cell_type": "code",
      "execution_count": 251,
      "metadata": {
        "id": "VZM_m97Y-Q--"
      },
      "outputs": [],
      "source": [
        "@app.callback(\n",
        "    # Output('pie_country_type', 'options'),\n",
        "    Output('pie_type', 'figure'),\n",
        "    Input('map_region', 'value'),\n",
        "    Input('map_country', 'value')\n",
        ")\n",
        "\n",
        "def updatePie(region,country):\n",
        "    df=unis\n",
        "    labels=['Private','Public']  \n",
        "    text = 'World'      \n",
        "\n",
        "    if region:\n",
        "        df = unis[unis['Region'] == region]\n",
        "        text = region  \n",
        "    if country :\n",
        "      df = df[df['Country'] == country]\n",
        "      text=country\n",
        "    \n",
        "    values=[df[df['Type']=='Private'].count()['University'],df[df['Type']=='Public'].count()['University']]\n",
        "    countries = [{'label': str(i), 'value':str(i)} for i in df['Country'].unique()]\n",
        "\n",
        "    fig = go.Figure(data=[go.Pie(labels=labels, values=values,\n",
        "                             text=values,\n",
        "                             hole=.3,\n",
        "                             marker = dict(colors = ['rgb(148,212,180)','rgb(4,82,117,255)']),\n",
        "                             textinfo='label+percent',\n",
        "                             insidetextorientation='radial',\n",
        "                             hovertemplate = \"<br>Type: %{label} </br> Count:%{value}<extra></extra>\",\n",
        "                             )])\n",
        "    fig.update_layout(title=\"Public Vs Private Universites \")\n",
        "    fig.add_annotation(dict(font=dict(color='black',size=15),\n",
        "                                        x=0,\n",
        "                                        y=-0.12,\n",
        "                                        showarrow=False,\n",
        "                                        text=text,\n",
        "                                        textangle=0,\n",
        "                                        xanchor='left',\n",
        "                                        xref=\"paper\",\n",
        "                                        yref=\"paper\"))\n",
        "    return fig\n"
      ]
    },
    {
      "cell_type": "markdown",
      "source": [
        "# **Universities page**"
      ],
      "metadata": {
        "id": "F_9fTD2CQroB"
      }
    },
    {
      "cell_type": "code",
      "source": [
        "uni = dbc.Container([\n",
        "      dbc.Row([\n",
        "          dbc.Col(html.H1('👩🏻‍🎓 Ranking of Top 5 Universities Over the World', id='page2_title'))\n",
        "      ]),\n",
        "\n",
        "      dbc.Row([\n",
        "          dbc.Col(dcc.Dropdown([str(region) for region in unis['Region'].unique()], placeholder='Select Region',multi=True, id='line_region_uni'),width=4),\n",
        "          dbc.Col(dcc.Dropdown(placeholder='Select Country',multi=True, id='line_country_uni'),width=4),\n",
        "          dbc.Col(dcc.Dropdown(placeholder='Select University',multi=True, id='line_uni_uni'),width=4)\n",
        "      ], className='dropDowns'),  \n",
        "\n",
        "      dbc.Row(\n",
        "          dbc.Col(dcc.Graph(id='line_uni', figure={}), width=12)\n",
        "      ),\n",
        "\n",
        "      dbc.Row([\n",
        "          dbc.Col(dtc.Carousel([],\n",
        "              id='carousel',\n",
        "              slides_to_scroll=1,\n",
        "              swipe_to_slide=True,\n",
        "              autoplay=False,\n",
        "              arrows=True\n",
        "          ))\n",
        "      ])\n",
        "    \n",
        "])"
      ],
      "metadata": {
        "id": "Nq-5coMsRJ49"
      },
      "execution_count": 252,
      "outputs": []
    },
    {
      "cell_type": "code",
      "execution_count": 253,
      "metadata": {
        "id": "EGBJfdIeGM4w"
      },
      "outputs": [],
      "source": [
        "@app.callback(\n",
        "    Output('line_uni_uni', 'options'),\n",
        "    Output('line_country_uni', 'options'),\n",
        "    Output('line_uni', 'figure'),\n",
        "    Input('line_region_uni', 'value'),\n",
        "    Input('line_country_uni', 'value'),\n",
        "    Input('line_uni_uni', 'value')\n",
        ")\n",
        "\n",
        "def updateLine(region,country,university):\n",
        "  df = unis\n",
        "  \n",
        "  palette = cycle(px.colors.cyclical.Phase)\n",
        "  palette2=cycle(px.colors.cyclical.Phase)\n",
        "  if region :\n",
        "    df = unis[unis['Region'].isin(region) ]\n",
        "  if country :\n",
        "    df = df[df['Country'].isin(country)]\n",
        "  if not university:\n",
        "    university = list(df[df['Rank_2022']>0].iloc[0:5, 0].values)\n",
        "  fig = go.Figure()\n",
        "  for uni in university:\n",
        "    x=np.arange(2017, 2023)\n",
        "    y=df[df['University']==uni].iloc[:,11:17].values.flatten().tolist()\n",
        "    x = [x[i] for i in range(len(y)) if y[i]>0]\n",
        "    y = [y[i] for i in range(len(y)) if y[i]>0]\n",
        "    \n",
        "    fig.add_trace(go.Scatter(x=x, y=y, name=uni,\n",
        "                        line_shape='linear',\n",
        "                        line_color=next(palette),\n",
        "                        hovertemplate = \"<br>Year : %{x} </br> Rank:%{y}<extra></extra>\"))\n",
        "    fig.add_trace(go.Scatter(x=[x[y.index(np.min(y))]], y=[np.min(y)],name=str(min(y)),\n",
        "                            mode = 'markers',\n",
        "                            marker_symbol = 'circle',\n",
        "                            marker_color=next(palette2),\n",
        "                            marker_size = 10,\n",
        "                            hovertemplate = \"<br>Year : %{x} </br> Rank:%{y}<extra></extra>\",\n",
        "                            showlegend=False))\n",
        "\n",
        "  fig.update_layout(\n",
        "      yaxis=dict(\n",
        "          autorange='reversed',\n",
        "      ),\n",
        "      xaxis=dict(\n",
        "          dtick=1,\n",
        "          range=[2016.1, 2022.9]\n",
        "      ),\n",
        "    legend=dict(\n",
        "        \n",
        "        title_font_family=\"Times New Roman\",\n",
        "        font=dict(\n",
        "            family=\"Courier\",\n",
        "            size=12,\n",
        "            color=\"black\"\n",
        "        ),\n",
        "       \n",
        "    )\n",
        ")\n",
        "  \n",
        "  countries = [{'label': str(i), 'value':str(i)} for i in df['Country'].unique()]\n",
        "  universities = [{'label': str(i), 'value':str(i)} for i in df['University'].unique()]\n",
        "  return universities, countries, fig\n",
        "\n"
      ]
    },
    {
      "cell_type": "code",
      "source": [
        "@app.callback(\n",
        "    Output('carousel', 'children'),\n",
        "    Input('line_uni_uni', 'value')\n",
        ")\n",
        "\n",
        "def updateCards(university):\n",
        "    universities = unis[unis['Rank_2022']>0][0:5]\n",
        "\n",
        "    if university:\n",
        "        universities = unis[unis['University'].isin(university)]\n",
        "\n",
        "    labels=['International Students', 'National Students']\n",
        "\n",
        "    cards = []\n",
        "\n",
        "    for i in range(universities.shape[0]):\n",
        "\n",
        "        fig = go.Figure()\n",
        "        international_students = universities.iloc[i, 9]\n",
        "        students = universities.iloc[i, 10]\n",
        "        values = [international_students, students-international_students]\n",
        "\n",
        "        fig.add_trace(go.Pie(labels=labels, values=values,\n",
        "                                text=values,\n",
        "                                hole=.3,\n",
        "                                  marker = dict(colors = ['rgb(148,212,180)','rgb(4,82,117,255)']),\n",
        "                                textinfo='percent',\n",
        "                                insidetextorientation='radial',\n",
        "                                hovertemplate = \"<br>%{label} </br> Count:%{value}<extra></extra>\",)\n",
        "        )\n",
        "\n",
        "        fig.update_layout(margin=dict(t=0, b=0, l=0, r=0))\n",
        "\n",
        "        card_content = [\n",
        "          html.A([\n",
        "              dbc.CardHeader([\n",
        "                 # html.Img(src = universities.iloc[i, 4]),\n",
        "                  html.H5(universities.iloc[i, 0])\n",
        "              ], id='card_header')\n",
        "          ], href=universities.iloc[i, 5], target='_blank'),\n",
        "\n",
        "          dbc.CardBody([\n",
        "              html.Ul(),\n",
        "              dcc.Graph(figure = fig, style={\"height\": \"80%\", \"width\": \"100%\"})\n",
        "          ]),\n",
        "        ]\n",
        "        cards.append(dbc.Card(card_content, outline=True,id='uni_card'))\n",
        "    \n",
        "    return cards\n",
        "\n"
      ],
      "metadata": {
        "id": "xKh1JDYumobh"
      },
      "execution_count": 254,
      "outputs": []
    },
    {
      "cell_type": "markdown",
      "source": [
        "# **Dashboard Layout**"
      ],
      "metadata": {
        "id": "qidnXzLYQPF6"
      }
    },
    {
      "cell_type": "code",
      "execution_count": 255,
      "metadata": {
        "id": "YWO657eKepOT"
      },
      "outputs": [],
      "source": [
        "app.layout = html.Div(children=[\n",
        "     dbc.Navbar(children=[\n",
        "        dbc.Col([\n",
        "            html.Img(id='logo', src=app.get_asset_url('images/World2.png')),\n",
        "            html.H1('World University Rankings', id='title')\n",
        "        ], width=8),\n",
        "\n",
        "        dbc.Col(dbc.Tabs(id='tabs', active_tab='tab-1', children=[\n",
        "            dbc.Tab(label=\"World Overview\", tab_id='tab-1'),\n",
        "            dbc.Tab(label=\"Universities\", tab_id='tab-2')\n",
        "        ]))\n",
        "     ], id='nav', sticky = 'top'),\n",
        "   \n",
        "     html.Div(id='content')\n",
        "], className='dashboard')"
      ]
    },
    {
      "cell_type": "code",
      "execution_count": 256,
      "metadata": {
        "id": "TcOL0D6yjxkG"
      },
      "outputs": [],
      "source": [
        "@app.callback(\n",
        "    Output('content', 'children'),\n",
        "    Input('tabs', 'active_tab'),\n",
        ")\n",
        "\n",
        "def display_content(active_tab):\n",
        "    if active_tab == 'tab-1':\n",
        "        return world\n",
        "    return uni"
      ]
    },
    {
      "cell_type": "code",
      "execution_count": 257,
      "metadata": {
        "colab": {
          "base_uri": "https://localhost:8080/"
        },
        "id": "COkPFBnQfBRG",
        "outputId": "05b5ad3c-2ecb-46e0-f83a-c0ddaa92afa3"
      },
      "outputs": [
        {
          "output_type": "stream",
          "name": "stdout",
          "text": [
            "Dash app running on:\n"
          ]
        },
        {
          "output_type": "display_data",
          "data": {
            "text/plain": [
              "<IPython.core.display.Javascript object>"
            ],
            "application/javascript": [
              "(async (port, path, text, element) => {\n",
              "    if (!google.colab.kernel.accessAllowed) {\n",
              "      return;\n",
              "    }\n",
              "    element.appendChild(document.createTextNode(''));\n",
              "    const url = await google.colab.kernel.proxyPort(port);\n",
              "    const anchor = document.createElement('a');\n",
              "    anchor.href = new URL(path, url).toString();\n",
              "    anchor.target = '_blank';\n",
              "    anchor.setAttribute('data-href', url + path);\n",
              "    anchor.textContent = text;\n",
              "    element.appendChild(anchor);\n",
              "  })(8050, \"/\", \"http://127.0.0.1:8050/\", window.element)"
            ]
          },
          "metadata": {}
        }
      ],
      "source": [
        "app.run_server()"
      ]
    },
    {
      "cell_type": "code",
      "execution_count": 258,
      "metadata": {
        "id": "MeSZrLB3wGlW"
      },
      "outputs": [],
      "source": [
        "# from jupyter_dash import JupyterDash\n",
        "# from dash import Dash, dcc, html, Input, Output, no_update\n",
        "# import plotly.graph_objects as go\n",
        "# import pandas as pd\n",
        "\n",
        "# ## create sample random data\n",
        "# df = pd.DataFrame({\n",
        "#     'x': [80,2,10],\n",
        "#     'y': [20,3,25],\n",
        "#     'color': ['red','green','blue'],\n",
        "#     'img_url': [\n",
        "#         \"https://upload.wikimedia.org/wikipedia/commons/0/03/Refugee_care_near_Poland_border_train_station_20220228.jpg\",\n",
        "#         \"https://upload.wikimedia.org/wikipedia/commons/4/45/Ukrainian_refugees_from_2022%2C_crossing_into_Poland.jpg\",\n",
        "#         \"https://upload.wikimedia.org/wikipedia/commons/b/b2/Warsaw_Central_Station_during_Ukrainian_refugee_crisis_10.jpg\"\n",
        "        \n",
        "#     ]\n",
        "# })\n",
        "\n",
        "# fig = go.Figure(data=[\n",
        "#     go.Scatter(\n",
        "#         x=df['x'], \n",
        "#         y=df['y'], \n",
        "#         mode='markers',\n",
        "#         marker=dict(color=df['color'])\n",
        "#     )\n",
        "# ])\n",
        "\n",
        "\n",
        "# fig.update_traces(hoverinfo=\"none\", hovertemplate=None)\n",
        "\n",
        "# app = JupyterDash(_name_)\n",
        "\n",
        "# server = app.server\n",
        "\n",
        "# app.layout = html.Div([\n",
        "#     dcc.Graph(id=\"graph-basic-2\", figure=fig, clear_on_unhover=True),\n",
        "#     dcc.Tooltip(id=\"graph-tooltip\", direction='bottom'),\n",
        "# ])\n",
        "\n",
        "\n",
        "# @app.callback(\n",
        "#     Output(\"graph-tooltip\", \"show\"),\n",
        "#     Output(\"graph-tooltip\", \"bbox\"),\n",
        "#     Output(\"graph-tooltip\", \"children\"),\n",
        "#     Output(\"graph-tooltip\", \"direction\"),\n",
        "    \n",
        "#     Input(\"graph-basic-2\", \"hoverData\"),\n",
        "# )\n",
        "# def display_hover(hoverData):\n",
        "#     if hoverData is None:\n",
        "#         return False, no_update, no_update ,no_update\n",
        "\n",
        "#     # demo only shows the first point, but other points may also be available\n",
        "#     pt = hoverData[\"points\"][0]\n",
        "#     bbox = pt[\"bbox\"]\n",
        "#     num = pt[\"pointNumber\"]\n",
        "    \n",
        "    \n",
        "    \n",
        "#     df_row = df.iloc[num]\n",
        "#     img_src = df_row['img_url']\n",
        "\n",
        "#     children = [\n",
        "#         html.Img(\n",
        "#             src=img_src,\n",
        "#             style={\"width\": \"250px\"},\n",
        "#         ),\n",
        "#         html.P(\"ukrain refugees\"),\n",
        "#     ]\n",
        "    \n",
        "#     y = hoverData[\"points\"][0]['y']\n",
        "#     direction = \"bottom\" if y > 2 else \"top\"\n",
        "    \n",
        "#     return True, bbox, children , direction\n",
        "\n",
        "# app.run_server(mode=\"inline\")"
      ]
    }
  ],
  "metadata": {
    "colab": {
      "name": "World University Rankings.ipynb",
      "provenance": [],
      "include_colab_link": true
    },
    "kernelspec": {
      "display_name": "Python 3 (ipykernel)",
      "language": "python",
      "name": "python3"
    },
    "language_info": {
      "codemirror_mode": {
        "name": "ipython",
        "version": 3
      },
      "file_extension": ".py",
      "mimetype": "text/x-python",
      "name": "python",
      "nbconvert_exporter": "python",
      "pygments_lexer": "ipython3",
      "version": "3.9.7"
    }
  },
  "nbformat": 4,
  "nbformat_minor": 0
}