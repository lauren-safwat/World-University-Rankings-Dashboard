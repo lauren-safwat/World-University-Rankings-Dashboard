{
 "cells": [
  {
   "cell_type": "markdown",
   "metadata": {
    "colab_type": "text",
    "id": "view-in-github"
   },
   "source": [
    "<a href=\"https://colab.research.google.com/github/lauren-safwat/World-University-Rankings-Dashboard/blob/main/World_University_Rankings.ipynb\" target=\"_parent\"><img src=\"https://colab.research.google.com/assets/colab-badge.svg\" alt=\"Open In Colab\"/></a>"
   ]
  },
  {
   "cell_type": "code",
   "execution_count": 17,
   "metadata": {
    "id": "X17hhcl0QFfi"
   },
   "outputs": [],
   "source": [
    "# !pip3 install dash\n",
    "# !pip3 install jupyter_dash\n",
    "# !pip3 install dash_bootstrap_components"
   ]
  },
  {
   "cell_type": "code",
   "execution_count": 18,
   "metadata": {
    "id": "ZnWq2iRlUMkG"
   },
   "outputs": [],
   "source": [
    "import pandas as pd\n",
    "import numpy as np\n",
    "import matplotlib.pyplot as plt\n",
    "\n",
    "import jupyter_dash\n",
    "from dash import Dash, html, dcc, no_update\n",
    "from dash.dependencies import Input, Output, State\n",
    "from dash.exceptions import PreventUpdate\n",
    "import dash_bootstrap_components as dbc\n",
    "\n",
    "import plotly.express as px\n",
    "import plotly.graph_objs as go\n",
    "from plotly.subplots import make_subplots\n",
    "\n",
    "from math import ceil\n",
    "from itertools import cycle\n"
   ]
  },
  {
   "cell_type": "code",
   "execution_count": 19,
   "metadata": {
    "id": "NSkC410eb-kC"
   },
   "outputs": [],
   "source": [
    "unis=pd.read_csv('https://raw.githubusercontent.com/lauren-safwat/World-University-Rankings-Dashboard/main/dataset/World_University_Rankings.csv')"
   ]
  },
  {
   "cell_type": "code",
   "execution_count": 20,
   "metadata": {
    "id": "HKR9n9MP-mdP"
   },
   "outputs": [
    {
     "name": "stdout",
     "output_type": "stream",
     "text": [
      "[WinError 3] The system cannot find the path specified: '/content/World-University-Rankings-Dashboard'\n",
      "C:\\Users\\afnan\n"
     ]
    },
    {
     "name": "stderr",
     "output_type": "stream",
     "text": [
      "Cloning into 'World-University-Rankings-Dashboard'...\n"
     ]
    }
   ],
   "source": [
    "!git clone https://github.com/lauren-safwat/World-University-Rankings-Dashboard\n",
    "%cd /content/World-University-Rankings-Dashboard"
   ]
  },
  {
   "cell_type": "code",
   "execution_count": 21,
   "metadata": {
    "id": "aPKq_gZdY1VH"
   },
   "outputs": [],
   "source": [
    "app = jupyter_dash.JupyterDash(external_stylesheets=[dbc.themes.BOOTSTRAP, 'assets/css/style.css'], suppress_callback_exceptions=True)"
   ]
  },
  {
   "cell_type": "code",
   "execution_count": 22,
   "metadata": {
    "id": "Gp5RrF-hGIf5"
   },
   "outputs": [],
   "source": [
    "world = dbc.Container(\n",
    "    [    dbc.Row([\n",
    "        dbc.Col(dcc.Graph(id='map', figure={}), width=8),\n",
    "        dbc.Col(html.Div(id='table', style={'maxHeight': '350px', 'overflowY': 'scroll'}))\n",
    "    ]),\n",
    "\n",
    "    dbc.Row([\n",
    "        dbc.Col(dcc.Slider(id='mapSlider',\n",
    "                  min=2017,\n",
    "                  max=2022,\n",
    "                  value=2022,\n",
    "                  step=None,\n",
    "                  marks={i: str(i) for i in range(2017, 2023)}\n",
    "                  ), width=5),\n",
    "             \n",
    "        dbc.Col(dcc.Dropdown([str(region) for region in unis['Region'].unique()], placeholder='Select Region', id='map_region'), width=2),\n",
    "        dbc.Col(dcc.Dropdown(placeholder='Select Country', id='map_country'),width=2),\n",
    "        dbc.Col(dcc.Checklist([\n",
    "            {'label': 'Private Universities', 'value': 'Private'},\n",
    "            {'label': 'Public Universities', 'value': 'Public'},\n",
    "        ],\n",
    "        id='checklist'\n",
    "      ),width=2)\n",
    "    ]),\n",
    "    \n",
    "\n",
    "    dbc.Row([\n",
    "        dbc.Col(\n",
    "            dbc.Row(dcc.Graph(id='bar_uniCount', figure={})),\n",
    "            width=4\n",
    "        ),\n",
    "\n",
    "        dbc.Col(\n",
    "            dbc.Row(dcc.Graph(id='bar_intCount', figure={})),\n",
    "            width=4\n",
    "        ),\n",
    "        dbc.Col(\n",
    "            dbc.Row(dcc.Graph(id='pie_type', figure={})),\n",
    "            width=4\n",
    "        )\n",
    "      ]),\n",
    "    \n",
    "    ])\n",
    "\n",
    "uni = dbc.Container(\n",
    "    [dbc.Row([dbc.Col(dcc.Dropdown([str(region) for region in unis['Region'].unique()], placeholder='Select Region',multi=True, id='line_region_uni'),width=4),\n",
    "                          dbc.Col(dcc.Dropdown(placeholder='Select Country',multi=True, id='line_country_uni'),width=4),\n",
    "                          dbc.Col(dcc.Dropdown(placeholder='Select University',multi=True, id='line_uni_uni'),width=4)\n",
    "                          ]),    \n",
    "     dbc.Row(\n",
    "             \n",
    "            dbc.Row(dcc.Graph(id='line_uni', figure={})),),\n",
    "     dbc.Row(dbc.Col(dcc.Graph(id='pie_uni',figure ={})))\n",
    "     ]\n",
    "    \n",
    ")"
   ]
  },
  {
   "cell_type": "code",
   "execution_count": 23,
   "metadata": {
    "id": "YWO657eKepOT"
   },
   "outputs": [],
   "source": [
    "app.layout = html.Div(children=[\n",
    "     dbc.Navbar(children=[\n",
    "        dbc.Col([\n",
    "            html.Img(id='logo', src=app.get_asset_url('images/World2.png')),\n",
    "            html.H1('World University Rankings', id='title')\n",
    "        ], width=6),\n",
    "\n",
    "        dbc.Col(dbc.Tabs(id='tabs', active_tab='tab-1', children=[\n",
    "            dbc.Tab(label=\"World Overview\", tab_id='tab-1'),\n",
    "            dbc.Tab(label=\"Universities\", tab_id='tab-2')\n",
    "        ]))\n",
    "     ], id='nav', sticky = 'top'),\n",
    "   \n",
    "     html.Div(id='content')\n",
    "])"
   ]
  },
  {
   "cell_type": "code",
   "execution_count": 24,
   "metadata": {
    "id": "TcOL0D6yjxkG"
   },
   "outputs": [],
   "source": [
    "@app.callback(\n",
    "    Output('content', 'children'),\n",
    "    Input('tabs', 'active_tab'),\n",
    ")\n",
    "\n",
    "def display_content(active_tab):\n",
    "    if active_tab == 'tab-1':\n",
    "        return world\n",
    "    return uni"
   ]
  },
  {
   "cell_type": "code",
   "execution_count": 25,
   "metadata": {
    "id": "wAWl6M9LbdP7"
   },
   "outputs": [],
   "source": [
    "@app.callback(\n",
    "    Output('map_country', 'options'),\n",
    "    Output('map', 'figure'),\n",
    "    Output(\"table\", \"children\"),\n",
    "    Input('mapSlider', 'value'),\n",
    "    Input('map_region', 'value'),\n",
    "    Input('map_country', 'value'),\n",
    "    Input('checklist', 'value')\n",
    ")\n",
    "\n",
    "\n",
    "def updateMap(year, region, country,priv):\n",
    "    year = 'Rank_' + str(year)\n",
    "    df = unis[unis[year] > 0].sort_values(year, axis=0)\n",
    "    print\n",
    "    zoom = 0.1\n",
    "\n",
    "    if region:\n",
    "        zoom = 1.3\n",
    "        df = df[df['Region'] == region]\n",
    "\n",
    "    if country:\n",
    "        zoom = 2.5\n",
    "        df = df[df['Country'] == country]\n",
    "    if(priv):\n",
    "      df=df[df['Type'].isin(priv)]\n",
    "\n",
    "    \n",
    "    fig = px.scatter_mapbox(df[:100],\n",
    "                            lon='Longitude',\n",
    "                            lat='Latitude',\n",
    "                            color=year,\n",
    "                            hover_name='University',\n",
    "                            hover_data=['Country'],\n",
    "                            zoom=zoom,\n",
    "                            title = 'Ranking of Universities Around the World',\n",
    "                            mapbox_style='carto-positron',\n",
    "                            color_continuous_scale=px.colors.sequential.deep_r,\n",
    "                            )\n",
    "    \n",
    "    fig.update_traces(marker = {'size':10, 'opacity':0.5}, selector={'type': 'scattermapbox'})\n",
    "\n",
    "    countries = [{'label': str(i), 'value':str(i)} for i in df['Country'].unique()]\n",
    "\n",
    "    table = dbc.Table.from_dataframe(df[[year, 'University']], striped=True, bordered=True, hover=True, responsive=True)\n",
    "    \n",
    "    return countries, fig, table"
   ]
  },
  {
   "cell_type": "code",
   "execution_count": 26,
   "metadata": {
    "id": "eG371q5RgkMH"
   },
   "outputs": [],
   "source": [
    "@app.callback(\n",
    "    Output('bar_uniCount', 'figure'),\n",
    "    Input('map_region', 'value'),\n",
    "    Input('checklist', 'value')\n",
    ")\n",
    "\n",
    "def updateBar1(region,priv):\n",
    "\n",
    "    #countries = [{'label': str(i), 'value':str(i)} for i in unis['Country'].unique()]\n",
    "    x=unis.groupby(['Region'])['University'].count()\n",
    "    y=x.keys()\n",
    "        \n",
    "    df=unis\n",
    "    if(priv):\n",
    "      df=df[df['Type'].isin(priv)]\n",
    "      x=df.groupby(['Region'])['University'].count()\n",
    "      y=x.keys()\n",
    "    if region:\n",
    "        df = df[df['Region'] == region]\n",
    "        #countries = [{'label': str(i), 'value':str(i)} for i in df['Country'].unique()]\n",
    "        x=df.groupby(['Country'])['University'].count()\n",
    "        y=x.keys()\n",
    "    sortd = sorted(zip(x,y))\n",
    "    x = [i[0] for i in sortd]\n",
    "    y = [i[1] for i in sortd]\n",
    "        \n",
    "    fig = go.Figure(go.Bar(\n",
    "                x=list(x),\n",
    "                y=list(y),\n",
    "                orientation='h',\n",
    "                text=x,\n",
    "                marker={\n",
    "                'color': x,\n",
    "                'colorscale': 'bluyl'\n",
    "                }))\n",
    "    fig.update_layout(title=\"University Count\",\n",
    "                      barmode='group',\n",
    "                      bargap=0.0,\n",
    "                      bargroupgap=0.0\n",
    "                     )\n",
    "    return fig"
   ]
  },
  {
   "cell_type": "code",
   "execution_count": 27,
   "metadata": {
    "id": "P5wZnKQTmq57"
   },
   "outputs": [],
   "source": [
    "@app.callback(\n",
    "    Output('bar_intCount', 'figure'),\n",
    "    Input('map_region', 'value'),\n",
    "    Input('checklist', 'value')\n",
    ")\n",
    "\n",
    "def updateBar2(region,priv):\n",
    "\n",
    "    #countries = [{'label': str(i), 'value':str(i)} for i in unis['Country'].unique()]\n",
    "    x=unis.groupby(['Region'])['International_Students'].sum()\n",
    "    y=x.keys()\n",
    "        \n",
    "    df=unis\n",
    "    if(priv):\n",
    "      df=df[df['Type'].isin(priv)]\n",
    "      x=df.groupby(['Region'])['International_Students'].sum()\n",
    "      y=x.keys()\n",
    "\n",
    "    if region:\n",
    "        df = df[df['Region'] == region]\n",
    "        #countries = [{'label': str(i), 'value':str(i)} for i in df['Country'].unique()]\n",
    "        x=df.groupby(['Country'])['International_Students'].sum()\n",
    "        y=x.keys()\n",
    "    sortd = sorted(zip(x,y))\n",
    "    x = [i[0] for i in sortd]\n",
    "    y = [i[1] for i in sortd]\n",
    "    \n",
    "    fig = go.Figure(go.Bar(\n",
    "                x=list(x),\n",
    "                y=list(y),\n",
    "                orientation='h',\n",
    "                text=x,\n",
    "                marker={\n",
    "                'color': x,\n",
    "                'colorscale': 'bluyl'\n",
    "                }))\n",
    "    fig.update_layout(title=\"Number of International Students\",\n",
    "                      barmode='group',\n",
    "                      bargap=0.0,\n",
    "                      bargroupgap=0.0)\n",
    "    return fig"
   ]
  },
  {
   "cell_type": "code",
   "execution_count": 28,
   "metadata": {
    "id": "VZM_m97Y-Q--"
   },
   "outputs": [],
   "source": [
    "@app.callback(\n",
    "    # Output('pie_country_type', 'options'),\n",
    "    Output('pie_type', 'figure'),\n",
    "    Input('map_region', 'value'),\n",
    "    Input('map_country', 'value')\n",
    ")\n",
    "\n",
    "def updatePie(region,country):\n",
    "    df=unis\n",
    "    labels=['Private','Public']  \n",
    "    text = 'World'      \n",
    "\n",
    "    if region:\n",
    "        df = unis[unis['Region'] == region]\n",
    "        text = region  \n",
    "    if country :\n",
    "      df = df[df['Country'] == country]\n",
    "      text=country\n",
    "    \n",
    "    values=[df[df['Type']=='Private'].count()['University'],df[df['Type']=='Public'].count()['University']]\n",
    "    countries = [{'label': str(i), 'value':str(i)} for i in df['Country'].unique()]\n",
    "\n",
    "    fig = go.Figure(data=[go.Pie(labels=labels, values=values,\n",
    "                             text=values,\n",
    "                             hole=.3,\n",
    "                             marker = dict(colors = ['rgb(154,229,240)','rgb(148,212,180)']),\n",
    "                             textinfo='label+percent',\n",
    "                             insidetextorientation='radial'\n",
    "                             )])\n",
    "    fig.update_layout(title=\"Public Vs Private Universites \")\n",
    "    fig.add_annotation(dict(font=dict(color='black',size=15),\n",
    "                                        x=0,\n",
    "                                        y=-0.12,\n",
    "                                        showarrow=False,\n",
    "                                        text=text,\n",
    "                                        textangle=0,\n",
    "                                        xanchor='left',\n",
    "                                        xref=\"paper\",\n",
    "                                        yref=\"paper\"))\n",
    "    return fig\n"
   ]
  },
  {
   "cell_type": "code",
   "execution_count": 29,
   "metadata": {
    "id": "EGBJfdIeGM4w"
   },
   "outputs": [],
   "source": [
    "@app.callback(\n",
    "    Output('line_uni_uni', 'options'),\n",
    "    Output('line_country_uni', 'options'),\n",
    "    Output('line_uni', 'figure'),\n",
    "    Input('line_region_uni', 'value'),\n",
    "    Input('line_country_uni', 'value'),\n",
    "    Input('line_uni_uni', 'value')\n",
    ")\n",
    "\n",
    "def updateLine(region,country,university):\n",
    "  df = unis\n",
    "  \n",
    "  palette = cycle(px.colors.cyclical.Phase)\n",
    "  palette2=cycle(px.colors.cyclical.Phase)#cycle(px.colors.cyclical.Phase)\n",
    "  if region :\n",
    "    df = unis[unis['Region'].isin(region) ]\n",
    "  if country :\n",
    "    df = df[df['Country'].isin(country)]\n",
    "  if not university:\n",
    "    university = [df[df['Rank_2022']>0].iloc[0,0]]\n",
    "  fig = go.Figure()\n",
    "  for uni in university:\n",
    "    x=np.arange(2017,2023)\n",
    "    y=df[df['University']==uni].iloc[:,11:17].values.flatten().tolist()\n",
    "    x = [x[i] for i in range(len(y)) if y[i]>0]\n",
    "    y = [y[i] for i in range(len(y)) if y[i]>0]\n",
    "    \n",
    "    fig.add_trace(go.Scatter(x=x, y=y, name=uni,\n",
    "                        line_shape='linear',\n",
    "                        line_color=next(palette)))\n",
    "    fig.add_trace(go.Scatter(x=[x[y.index(np.min(y))]], y=[np.min(y)],name=str(min(y)),\n",
    "                            mode = 'markers',\n",
    "                            marker_symbol = 'circle',\n",
    "                            marker_color=next(palette2),\n",
    "                            marker_size = 10,\n",
    "                            showlegend=False))\n",
    "  # fig['layout']['yaxis']['autorange'] = \"reversed\"\n",
    "  # fig['layout']['xaxis']['dtick'] = 1\n",
    "  #fig['layout']['showlegend'] = False\n",
    "  fig.update_layout(\n",
    "      # {'plot_bgcolor':'#ffffff',\n",
    "      #  'paper_bgcolor':'#ffffff'},\n",
    "      yaxis=dict(\n",
    "          autorange='reversed',\n",
    "          #gridcolor='#a1a7b3'\n",
    "      ),\n",
    "      xaxis=dict(\n",
    "          dtick=1,\n",
    "          #gridcolor='#a1a7b3'\n",
    "      ),\n",
    "    legend=dict(\n",
    "        \n",
    "        title_font_family=\"Times New Roman\",\n",
    "        font=dict(\n",
    "            family=\"Courier\",\n",
    "            size=12,\n",
    "            color=\"black\"\n",
    "        ),\n",
    "       \n",
    "    )\n",
    ")\n",
    "  \n",
    "  countries = [{'label': str(i), 'value':str(i)} for i in df['Country'].unique()]\n",
    "  universities = [{'label': str(i), 'value':str(i)} for i in df['University'].unique()]\n",
    "  return universities, countries, fig\n",
    "\n"
   ]
  },
  {
   "cell_type": "code",
   "execution_count": 30,
   "metadata": {
    "id": "owlQIgkFU07V"
   },
   "outputs": [],
   "source": [
    "@app.callback(\n",
    "    Output('pie_uni', 'figure'),\n",
    "    Input('line_uni_uni', 'value')\n",
    ")\n",
    "\n",
    "def updateLine(university):\n",
    "  df = unis\n",
    "  labels=['International Students','National Students']\n",
    "  if not university:\n",
    "    university = [df[df['Rank_2022']>0].iloc[0,0]]\n",
    "  \n",
    "  cols = 2\n",
    "  rows = ceil(len(university)/cols)\n",
    "  specs = [{'type':'domain'}]*rows*cols\n",
    "  specs = np.array(specs).reshape(rows,cols)\n",
    "  fig = make_subplots(rows=rows, cols=2,specs=specs.tolist())\n",
    "  for i in range(1,len(university)+1):\n",
    "    international=unis[unis['University']==university[i-1]]['International_Students'].values[0]\n",
    "    all=unis[unis['University']==university[i-1]]['Students_count'].values[0]\n",
    "    values = [international,all-international]\n",
    "    col = 1\n",
    "    row = (i+1)//2\n",
    "    if i%2==0: col=2\n",
    "    else : col = 1\n",
    "    fig.add_trace(go.Pie(labels=labels, values=values,\n",
    "                             text=values,\n",
    "                             hole=.3,\n",
    "                             marker = dict(colors = ['rgb(154,229,240)','rgb(148,212,180)']),\n",
    "                             ),row,col)\n",
    "  #fig['layout']['showlegend'] = False\n",
    "  #\n",
    "  \n",
    "  return fig\n",
    "\n"
   ]
  },
  {
   "cell_type": "code",
   "execution_count": 31,
   "metadata": {
    "colab": {
     "base_uri": "https://localhost:8080/",
     "height": 52
    },
    "id": "COkPFBnQfBRG",
    "outputId": "a1f4d2de-7312-4fdc-bf65-9d82f36b3be4"
   },
   "outputs": [
    {
     "name": "stderr",
     "output_type": "stream",
     "text": [
      "C:\\Users\\afnan\\anaconda3\\lib\\site-packages\\jupyter_dash\\jupyter_app.py:139: UserWarning:\n",
      "\n",
      "The 'environ['werkzeug.server.shutdown']' function is deprecated and will be removed in Werkzeug 2.1.\n",
      "\n"
     ]
    },
    {
     "name": "stdout",
     "output_type": "stream",
     "text": [
      "Dash app running on http://127.0.0.1:8050/\n"
     ]
    }
   ],
   "source": [
    "app.run_server()"
   ]
  },
  {
   "cell_type": "code",
   "execution_count": 32,
   "metadata": {
    "id": "MeSZrLB3wGlW"
   },
   "outputs": [],
   "source": [
    "# from jupyter_dash import JupyterDash\n",
    "# from dash import Dash, dcc, html, Input, Output, no_update\n",
    "# import plotly.graph_objects as go\n",
    "# import pandas as pd\n",
    "\n",
    "# ## create sample random data\n",
    "# df = pd.DataFrame({\n",
    "#     'x': [80,2,10],\n",
    "#     'y': [20,3,25],\n",
    "#     'color': ['red','green','blue'],\n",
    "#     'img_url': [\n",
    "#         \"https://upload.wikimedia.org/wikipedia/commons/0/03/Refugee_care_near_Poland_border_train_station_20220228.jpg\",\n",
    "#         \"https://upload.wikimedia.org/wikipedia/commons/4/45/Ukrainian_refugees_from_2022%2C_crossing_into_Poland.jpg\",\n",
    "#         \"https://upload.wikimedia.org/wikipedia/commons/b/b2/Warsaw_Central_Station_during_Ukrainian_refugee_crisis_10.jpg\"\n",
    "        \n",
    "#     ]\n",
    "# })\n",
    "\n",
    "# fig = go.Figure(data=[\n",
    "#     go.Scatter(\n",
    "#         x=df['x'], \n",
    "#         y=df['y'], \n",
    "#         mode='markers',\n",
    "#         marker=dict(color=df['color'])\n",
    "#     )\n",
    "# ])\n",
    "\n",
    "\n",
    "# fig.update_traces(hoverinfo=\"none\", hovertemplate=None)\n",
    "\n",
    "# app = JupyterDash(_name_)\n",
    "\n",
    "# server = app.server\n",
    "\n",
    "# app.layout = html.Div([\n",
    "#     dcc.Graph(id=\"graph-basic-2\", figure=fig, clear_on_unhover=True),\n",
    "#     dcc.Tooltip(id=\"graph-tooltip\", direction='bottom'),\n",
    "# ])\n",
    "\n",
    "\n",
    "# @app.callback(\n",
    "#     Output(\"graph-tooltip\", \"show\"),\n",
    "#     Output(\"graph-tooltip\", \"bbox\"),\n",
    "#     Output(\"graph-tooltip\", \"children\"),\n",
    "#     Output(\"graph-tooltip\", \"direction\"),\n",
    "    \n",
    "#     Input(\"graph-basic-2\", \"hoverData\"),\n",
    "# )\n",
    "# def display_hover(hoverData):\n",
    "#     if hoverData is None:\n",
    "#         return False, no_update, no_update ,no_update\n",
    "\n",
    "#     # demo only shows the first point, but other points may also be available\n",
    "#     pt = hoverData[\"points\"][0]\n",
    "#     bbox = pt[\"bbox\"]\n",
    "#     num = pt[\"pointNumber\"]\n",
    "    \n",
    "    \n",
    "    \n",
    "#     df_row = df.iloc[num]\n",
    "#     img_src = df_row['img_url']\n",
    "\n",
    "#     children = [\n",
    "#         html.Img(\n",
    "#             src=img_src,\n",
    "#             style={\"width\": \"250px\"},\n",
    "#         ),\n",
    "#         html.P(\"ukrain refugees\"),\n",
    "#     ]\n",
    "    \n",
    "#     y = hoverData[\"points\"][0]['y']\n",
    "#     direction = \"bottom\" if y > 2 else \"top\"\n",
    "    \n",
    "#     return True, bbox, children , direction\n",
    "\n",
    "# app.run_server(mode=\"inline\")"
   ]
  }
 ],
 "metadata": {
  "colab": {
   "include_colab_link": true,
   "name": "World University Rankings.ipynb",
   "provenance": []
  },
  "kernelspec": {
   "display_name": "Python 3 (ipykernel)",
   "language": "python",
   "name": "python3"
  },
  "language_info": {
   "codemirror_mode": {
    "name": "ipython",
    "version": 3
   },
   "file_extension": ".py",
   "mimetype": "text/x-python",
   "name": "python",
   "nbconvert_exporter": "python",
   "pygments_lexer": "ipython3",
   "version": "3.9.7"
  }
 },
 "nbformat": 4,
 "nbformat_minor": 1
}
