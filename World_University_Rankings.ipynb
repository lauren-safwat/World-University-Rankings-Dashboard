{
  "nbformat": 4,
  "nbformat_minor": 0,
  "metadata": {
    "colab": {
      "name": "World University Rankings.ipynb",
      "provenance": [],
      "include_colab_link": true
    },
    "kernelspec": {
      "name": "python3",
      "display_name": "Python 3"
    },
    "language_info": {
      "name": "python"
    }
  },
  "cells": [
    {
      "cell_type": "markdown",
      "metadata": {
        "id": "view-in-github",
        "colab_type": "text"
      },
      "source": [
        "<a href=\"https://colab.research.google.com/github/lauren-safwat/World-University-Rankings-Dashboard/blob/main/World_University_Rankings.ipynb\" target=\"_parent\"><img src=\"https://colab.research.google.com/assets/colab-badge.svg\" alt=\"Open In Colab\"/></a>"
      ]
    },
    {
      "cell_type": "code",
      "source": [
        "!pip3 install dash"
      ],
      "metadata": {
        "id": "X17hhcl0QFfi",
        "outputId": "09dc125b-fd03-4384-da3a-695b2faf535f",
        "colab": {
          "base_uri": "https://localhost:8080/"
        }
      },
      "execution_count": 2,
      "outputs": [
        {
          "output_type": "stream",
          "name": "stdout",
          "text": [
            "Collecting dash\n",
            "  Downloading dash-2.3.1-py3-none-any.whl (9.6 MB)\n",
            "\u001b[K     |████████████████████████████████| 9.6 MB 5.2 MB/s \n",
            "\u001b[?25hCollecting flask-compress\n",
            "  Downloading Flask_Compress-1.12-py3-none-any.whl (7.9 kB)\n",
            "Requirement already satisfied: Flask>=1.0.4 in /usr/local/lib/python3.7/dist-packages (from dash) (1.1.4)\n",
            "Requirement already satisfied: plotly>=5.0.0 in /usr/local/lib/python3.7/dist-packages (from dash) (5.5.0)\n",
            "Collecting dash-table==5.0.0\n",
            "  Downloading dash_table-5.0.0-py3-none-any.whl (3.9 kB)\n",
            "Collecting dash-core-components==2.0.0\n",
            "  Downloading dash_core_components-2.0.0-py3-none-any.whl (3.8 kB)\n",
            "Collecting dash-html-components==2.0.0\n",
            "  Downloading dash_html_components-2.0.0-py3-none-any.whl (4.1 kB)\n",
            "Requirement already satisfied: itsdangerous<2.0,>=0.24 in /usr/local/lib/python3.7/dist-packages (from Flask>=1.0.4->dash) (1.1.0)\n",
            "Requirement already satisfied: Jinja2<3.0,>=2.10.1 in /usr/local/lib/python3.7/dist-packages (from Flask>=1.0.4->dash) (2.11.3)\n",
            "Requirement already satisfied: click<8.0,>=5.1 in /usr/local/lib/python3.7/dist-packages (from Flask>=1.0.4->dash) (7.1.2)\n",
            "Requirement already satisfied: Werkzeug<2.0,>=0.15 in /usr/local/lib/python3.7/dist-packages (from Flask>=1.0.4->dash) (1.0.1)\n",
            "Requirement already satisfied: MarkupSafe>=0.23 in /usr/local/lib/python3.7/dist-packages (from Jinja2<3.0,>=2.10.1->Flask>=1.0.4->dash) (2.0.1)\n",
            "Requirement already satisfied: tenacity>=6.2.0 in /usr/local/lib/python3.7/dist-packages (from plotly>=5.0.0->dash) (8.0.1)\n",
            "Requirement already satisfied: six in /usr/local/lib/python3.7/dist-packages (from plotly>=5.0.0->dash) (1.15.0)\n",
            "Collecting brotli\n",
            "  Downloading Brotli-1.0.9-cp37-cp37m-manylinux1_x86_64.whl (357 kB)\n",
            "\u001b[K     |████████████████████████████████| 357 kB 45.0 MB/s \n",
            "\u001b[?25hInstalling collected packages: brotli, flask-compress, dash-table, dash-html-components, dash-core-components, dash\n",
            "Successfully installed brotli-1.0.9 dash-2.3.1 dash-core-components-2.0.0 dash-html-components-2.0.0 dash-table-5.0.0 flask-compress-1.12\n"
          ]
        }
      ]
    },
    {
      "cell_type": "code",
      "source": [
        "!pip3 install jupyter_dash"
      ],
      "metadata": {
        "id": "ThgI8GdLZCOW",
        "outputId": "2e2fec9c-a503-4529-e831-346018ed70a6",
        "colab": {
          "base_uri": "https://localhost:8080/"
        }
      },
      "execution_count": 3,
      "outputs": [
        {
          "output_type": "stream",
          "name": "stdout",
          "text": [
            "Collecting jupyter_dash\n",
            "  Downloading jupyter_dash-0.4.2-py3-none-any.whl (23 kB)\n",
            "Requirement already satisfied: flask in /usr/local/lib/python3.7/dist-packages (from jupyter_dash) (1.1.4)\n",
            "Requirement already satisfied: nest-asyncio in /usr/local/lib/python3.7/dist-packages (from jupyter_dash) (1.5.5)\n",
            "Requirement already satisfied: ipykernel in /usr/local/lib/python3.7/dist-packages (from jupyter_dash) (4.10.1)\n",
            "Requirement already satisfied: ipython in /usr/local/lib/python3.7/dist-packages (from jupyter_dash) (5.5.0)\n",
            "Requirement already satisfied: dash in /usr/local/lib/python3.7/dist-packages (from jupyter_dash) (2.3.1)\n",
            "Requirement already satisfied: requests in /usr/local/lib/python3.7/dist-packages (from jupyter_dash) (2.23.0)\n",
            "Collecting ansi2html\n",
            "  Downloading ansi2html-1.7.0-py3-none-any.whl (15 kB)\n",
            "Collecting retrying\n",
            "  Downloading retrying-1.3.3.tar.gz (10 kB)\n",
            "Requirement already satisfied: importlib-metadata in /usr/local/lib/python3.7/dist-packages (from ansi2html->jupyter_dash) (4.11.3)\n",
            "Requirement already satisfied: flask-compress in /usr/local/lib/python3.7/dist-packages (from dash->jupyter_dash) (1.12)\n",
            "Requirement already satisfied: dash-table==5.0.0 in /usr/local/lib/python3.7/dist-packages (from dash->jupyter_dash) (5.0.0)\n",
            "Requirement already satisfied: dash-html-components==2.0.0 in /usr/local/lib/python3.7/dist-packages (from dash->jupyter_dash) (2.0.0)\n",
            "Requirement already satisfied: plotly>=5.0.0 in /usr/local/lib/python3.7/dist-packages (from dash->jupyter_dash) (5.5.0)\n",
            "Requirement already satisfied: dash-core-components==2.0.0 in /usr/local/lib/python3.7/dist-packages (from dash->jupyter_dash) (2.0.0)\n",
            "Requirement already satisfied: Werkzeug<2.0,>=0.15 in /usr/local/lib/python3.7/dist-packages (from flask->jupyter_dash) (1.0.1)\n",
            "Requirement already satisfied: Jinja2<3.0,>=2.10.1 in /usr/local/lib/python3.7/dist-packages (from flask->jupyter_dash) (2.11.3)\n",
            "Requirement already satisfied: click<8.0,>=5.1 in /usr/local/lib/python3.7/dist-packages (from flask->jupyter_dash) (7.1.2)\n",
            "Requirement already satisfied: itsdangerous<2.0,>=0.24 in /usr/local/lib/python3.7/dist-packages (from flask->jupyter_dash) (1.1.0)\n",
            "Requirement already satisfied: MarkupSafe>=0.23 in /usr/local/lib/python3.7/dist-packages (from Jinja2<3.0,>=2.10.1->flask->jupyter_dash) (2.0.1)\n",
            "Requirement already satisfied: six in /usr/local/lib/python3.7/dist-packages (from plotly>=5.0.0->dash->jupyter_dash) (1.15.0)\n",
            "Requirement already satisfied: tenacity>=6.2.0 in /usr/local/lib/python3.7/dist-packages (from plotly>=5.0.0->dash->jupyter_dash) (8.0.1)\n",
            "Requirement already satisfied: brotli in /usr/local/lib/python3.7/dist-packages (from flask-compress->dash->jupyter_dash) (1.0.9)\n",
            "Requirement already satisfied: zipp>=0.5 in /usr/local/lib/python3.7/dist-packages (from importlib-metadata->ansi2html->jupyter_dash) (3.8.0)\n",
            "Requirement already satisfied: typing-extensions>=3.6.4 in /usr/local/lib/python3.7/dist-packages (from importlib-metadata->ansi2html->jupyter_dash) (4.2.0)\n",
            "Requirement already satisfied: jupyter-client in /usr/local/lib/python3.7/dist-packages (from ipykernel->jupyter_dash) (5.3.5)\n",
            "Requirement already satisfied: traitlets>=4.1.0 in /usr/local/lib/python3.7/dist-packages (from ipykernel->jupyter_dash) (5.1.1)\n",
            "Requirement already satisfied: tornado>=4.0 in /usr/local/lib/python3.7/dist-packages (from ipykernel->jupyter_dash) (5.1.1)\n",
            "Requirement already satisfied: pexpect in /usr/local/lib/python3.7/dist-packages (from ipython->jupyter_dash) (4.8.0)\n",
            "Requirement already satisfied: pygments in /usr/local/lib/python3.7/dist-packages (from ipython->jupyter_dash) (2.6.1)\n",
            "Requirement already satisfied: decorator in /usr/local/lib/python3.7/dist-packages (from ipython->jupyter_dash) (4.4.2)\n",
            "Requirement already satisfied: simplegeneric>0.8 in /usr/local/lib/python3.7/dist-packages (from ipython->jupyter_dash) (0.8.1)\n",
            "Requirement already satisfied: setuptools>=18.5 in /usr/local/lib/python3.7/dist-packages (from ipython->jupyter_dash) (57.4.0)\n",
            "Requirement already satisfied: prompt-toolkit<2.0.0,>=1.0.4 in /usr/local/lib/python3.7/dist-packages (from ipython->jupyter_dash) (1.0.18)\n",
            "Requirement already satisfied: pickleshare in /usr/local/lib/python3.7/dist-packages (from ipython->jupyter_dash) (0.7.5)\n",
            "Requirement already satisfied: wcwidth in /usr/local/lib/python3.7/dist-packages (from prompt-toolkit<2.0.0,>=1.0.4->ipython->jupyter_dash) (0.2.5)\n",
            "Requirement already satisfied: jupyter-core>=4.6.0 in /usr/local/lib/python3.7/dist-packages (from jupyter-client->ipykernel->jupyter_dash) (4.10.0)\n",
            "Requirement already satisfied: pyzmq>=13 in /usr/local/lib/python3.7/dist-packages (from jupyter-client->ipykernel->jupyter_dash) (22.3.0)\n",
            "Requirement already satisfied: python-dateutil>=2.1 in /usr/local/lib/python3.7/dist-packages (from jupyter-client->ipykernel->jupyter_dash) (2.8.2)\n",
            "Requirement already satisfied: ptyprocess>=0.5 in /usr/local/lib/python3.7/dist-packages (from pexpect->ipython->jupyter_dash) (0.7.0)\n",
            "Requirement already satisfied: chardet<4,>=3.0.2 in /usr/local/lib/python3.7/dist-packages (from requests->jupyter_dash) (3.0.4)\n",
            "Requirement already satisfied: urllib3!=1.25.0,!=1.25.1,<1.26,>=1.21.1 in /usr/local/lib/python3.7/dist-packages (from requests->jupyter_dash) (1.24.3)\n",
            "Requirement already satisfied: certifi>=2017.4.17 in /usr/local/lib/python3.7/dist-packages (from requests->jupyter_dash) (2021.10.8)\n",
            "Requirement already satisfied: idna<3,>=2.5 in /usr/local/lib/python3.7/dist-packages (from requests->jupyter_dash) (2.10)\n",
            "Building wheels for collected packages: retrying\n",
            "  Building wheel for retrying (setup.py) ... \u001b[?25l\u001b[?25hdone\n",
            "  Created wheel for retrying: filename=retrying-1.3.3-py3-none-any.whl size=11447 sha256=52ebd5ec871793b39ab88fbbd238951bf487c44388023e0a69039e31d6fd1f02\n",
            "  Stored in directory: /root/.cache/pip/wheels/f9/8d/8d/f6af3f7f9eea3553bc2fe6d53e4b287dad18b06a861ac56ddf\n",
            "Successfully built retrying\n",
            "Installing collected packages: retrying, ansi2html, jupyter-dash\n",
            "Successfully installed ansi2html-1.7.0 jupyter-dash-0.4.2 retrying-1.3.3\n"
          ]
        }
      ]
    },
    {
      "cell_type": "code",
      "source": [
        "!pip3 install dash_bootstrap_components"
      ],
      "metadata": {
        "id": "u5CEN3RbZeie",
        "outputId": "ba7ad022-8591-41db-d8a5-3b3932815893",
        "colab": {
          "base_uri": "https://localhost:8080/"
        }
      },
      "execution_count": 4,
      "outputs": [
        {
          "output_type": "stream",
          "name": "stdout",
          "text": [
            "Collecting dash_bootstrap_components\n",
            "  Downloading dash_bootstrap_components-1.1.0-py3-none-any.whl (210 kB)\n",
            "\u001b[?25l\r\u001b[K     |█▋                              | 10 kB 18.7 MB/s eta 0:00:01\r\u001b[K     |███▏                            | 20 kB 9.6 MB/s eta 0:00:01\r\u001b[K     |████▊                           | 30 kB 7.7 MB/s eta 0:00:01\r\u001b[K     |██████▎                         | 40 kB 4.4 MB/s eta 0:00:01\r\u001b[K     |███████▉                        | 51 kB 4.3 MB/s eta 0:00:01\r\u001b[K     |█████████▍                      | 61 kB 5.1 MB/s eta 0:00:01\r\u001b[K     |███████████                     | 71 kB 5.2 MB/s eta 0:00:01\r\u001b[K     |████████████▌                   | 81 kB 5.1 MB/s eta 0:00:01\r\u001b[K     |██████████████                  | 92 kB 5.6 MB/s eta 0:00:01\r\u001b[K     |███████████████▋                | 102 kB 5.0 MB/s eta 0:00:01\r\u001b[K     |█████████████████▏              | 112 kB 5.0 MB/s eta 0:00:01\r\u001b[K     |██████████████████▊             | 122 kB 5.0 MB/s eta 0:00:01\r\u001b[K     |████████████████████▎           | 133 kB 5.0 MB/s eta 0:00:01\r\u001b[K     |█████████████████████▉          | 143 kB 5.0 MB/s eta 0:00:01\r\u001b[K     |███████████████████████▍        | 153 kB 5.0 MB/s eta 0:00:01\r\u001b[K     |█████████████████████████       | 163 kB 5.0 MB/s eta 0:00:01\r\u001b[K     |██████████████████████████▌     | 174 kB 5.0 MB/s eta 0:00:01\r\u001b[K     |████████████████████████████    | 184 kB 5.0 MB/s eta 0:00:01\r\u001b[K     |█████████████████████████████▋  | 194 kB 5.0 MB/s eta 0:00:01\r\u001b[K     |███████████████████████████████▏| 204 kB 5.0 MB/s eta 0:00:01\r\u001b[K     |████████████████████████████████| 210 kB 5.0 MB/s \n",
            "\u001b[?25hRequirement already satisfied: dash>=2.0.0 in /usr/local/lib/python3.7/dist-packages (from dash_bootstrap_components) (2.3.1)\n",
            "Requirement already satisfied: plotly>=5.0.0 in /usr/local/lib/python3.7/dist-packages (from dash>=2.0.0->dash_bootstrap_components) (5.5.0)\n",
            "Requirement already satisfied: dash-core-components==2.0.0 in /usr/local/lib/python3.7/dist-packages (from dash>=2.0.0->dash_bootstrap_components) (2.0.0)\n",
            "Requirement already satisfied: dash-html-components==2.0.0 in /usr/local/lib/python3.7/dist-packages (from dash>=2.0.0->dash_bootstrap_components) (2.0.0)\n",
            "Requirement already satisfied: flask-compress in /usr/local/lib/python3.7/dist-packages (from dash>=2.0.0->dash_bootstrap_components) (1.12)\n",
            "Requirement already satisfied: Flask>=1.0.4 in /usr/local/lib/python3.7/dist-packages (from dash>=2.0.0->dash_bootstrap_components) (1.1.4)\n",
            "Requirement already satisfied: dash-table==5.0.0 in /usr/local/lib/python3.7/dist-packages (from dash>=2.0.0->dash_bootstrap_components) (5.0.0)\n",
            "Requirement already satisfied: click<8.0,>=5.1 in /usr/local/lib/python3.7/dist-packages (from Flask>=1.0.4->dash>=2.0.0->dash_bootstrap_components) (7.1.2)\n",
            "Requirement already satisfied: Werkzeug<2.0,>=0.15 in /usr/local/lib/python3.7/dist-packages (from Flask>=1.0.4->dash>=2.0.0->dash_bootstrap_components) (1.0.1)\n",
            "Requirement already satisfied: itsdangerous<2.0,>=0.24 in /usr/local/lib/python3.7/dist-packages (from Flask>=1.0.4->dash>=2.0.0->dash_bootstrap_components) (1.1.0)\n",
            "Requirement already satisfied: Jinja2<3.0,>=2.10.1 in /usr/local/lib/python3.7/dist-packages (from Flask>=1.0.4->dash>=2.0.0->dash_bootstrap_components) (2.11.3)\n",
            "Requirement already satisfied: MarkupSafe>=0.23 in /usr/local/lib/python3.7/dist-packages (from Jinja2<3.0,>=2.10.1->Flask>=1.0.4->dash>=2.0.0->dash_bootstrap_components) (2.0.1)\n",
            "Requirement already satisfied: six in /usr/local/lib/python3.7/dist-packages (from plotly>=5.0.0->dash>=2.0.0->dash_bootstrap_components) (1.15.0)\n",
            "Requirement already satisfied: tenacity>=6.2.0 in /usr/local/lib/python3.7/dist-packages (from plotly>=5.0.0->dash>=2.0.0->dash_bootstrap_components) (8.0.1)\n",
            "Requirement already satisfied: brotli in /usr/local/lib/python3.7/dist-packages (from flask-compress->dash>=2.0.0->dash_bootstrap_components) (1.0.9)\n",
            "Installing collected packages: dash-bootstrap-components\n",
            "Successfully installed dash-bootstrap-components-1.1.0\n"
          ]
        }
      ]
    },
    {
      "cell_type": "code",
      "execution_count": 5,
      "metadata": {
        "id": "ZnWq2iRlUMkG"
      },
      "outputs": [],
      "source": [
        "import pandas as pd\n",
        "import numpy as np\n",
        "import matplotlib.pyplot as plt\n",
        "import seaborn as sns\n",
        "sns.set_style('whitegrid')\n",
        "\n",
        "import jupyter_dash\n",
        "from dash import Dash, html, dcc\n",
        "from dash.dependencies import Input, Output, State\n",
        "import dash_bootstrap_components as dbc\n",
        "from dash.exceptions import PreventUpdate\n",
        "import plotly.express as px\n",
        "import plotly.graph_objs as go\n",
        "from datetime import date\n",
        "from datetime import datetime"
      ]
    },
    {
      "cell_type": "code",
      "source": [
        "unis = pd.read_csv('World_University_Rankings.csv')"
      ],
      "metadata": {
        "id": "NSkC410eb-kC"
      },
      "execution_count": 9,
      "outputs": []
    },
    {
      "cell_type": "code",
      "source": [
        "app = jupyter_dash.JupyterDash(external_stylesheets=[dbc.themes.DARKLY])"
      ],
      "metadata": {
        "id": "aPKq_gZdY1VH"
      },
      "execution_count": 10,
      "outputs": []
    },
    {
      "cell_type": "code",
      "source": [
        "#unis['Rank_2022']>0\n",
        "x = np.logical_and(unis['Region']=='North America',unis['Rank_2022']>0)\n",
        "#print(unis[x].shape)\n",
        "#px.set_mapbox_access_token('pk.eyJ1IjoiYWZuYW5ldG1hbiIsImEiOiJjbDJqN3F5cW0wMHprM2VwazQ0aHdvZDBhIn0.X032SoU1tft9zgusUaEqSQ')\n",
        "fig = px.scatter_mapbox(\n",
        "        unis[x].iloc[:100,:],lon='Longitude',lat='Latitude',color='Rank_2022',hover_name='University',size_max=40,hover_data=['Country'],zoom=2)\n",
        "fig.update_layout(mapbox_style=\"open-street-map\")\n",
        "\n",
        "fig.show()"
      ],
      "metadata": {
        "id": "gi8ILcT9waMV",
        "outputId": "6b5b00bd-7182-41c3-a082-1812bef0a766",
        "colab": {
          "base_uri": "https://localhost:8080/",
          "height": 542
        }
      },
      "execution_count": 62,
      "outputs": [
        {
          "output_type": "display_data",
          "data": {
            "text/html": [
              "<html>\n",
              "<head><meta charset=\"utf-8\" /></head>\n",
              "<body>\n",
              "    <div>            <script src=\"https://cdnjs.cloudflare.com/ajax/libs/mathjax/2.7.5/MathJax.js?config=TeX-AMS-MML_SVG\"></script><script type=\"text/javascript\">if (window.MathJax) {MathJax.Hub.Config({SVG: {font: \"STIX-Web\"}});}</script>                <script type=\"text/javascript\">window.PlotlyConfig = {MathJaxConfig: 'local'};</script>\n",
              "        <script src=\"https://cdn.plot.ly/plotly-2.8.3.min.js\"></script>                <div id=\"1b715305-9ca7-4e93-ac9d-4016ed4bdcb5\" class=\"plotly-graph-div\" style=\"height:525px; width:100%;\"></div>            <script type=\"text/javascript\">                                    window.PLOTLYENV=window.PLOTLYENV || {};                                    if (document.getElementById(\"1b715305-9ca7-4e93-ac9d-4016ed4bdcb5\")) {                    Plotly.newPlot(                        \"1b715305-9ca7-4e93-ac9d-4016ed4bdcb5\",                        [{\"customdata\":[[\"United States\"],[\"United States\"],[\"United States\"],[\"United States\"],[\"United States\"],[\"United States\"],[\"United States\"],[\"United States\"],[\"United States\"],[\"United States\"],[\"United States\"],[\"United States\"],[\"Canada\"],[\"Canada\"],[\"United States\"],[\"United States\"],[\"United States\"],[\"United States\"],[\"Canada\"],[\"United States\"],[\"United States\"],[\"United States\"],[\"United States\"],[\"United States\"],[\"United States\"],[\"United States\"],[\"United States\"],[\"United States\"],[\"United States\"],[\"United States\"],[\"United States\"],[\"United States\"],[\"United States\"],[\"Canada\"],[\"United States\"],[\"United States\"],[\"United States\"],[\"United States\"],[\"Canada\"],[\"Canada\"],[\"United States\"],[\"Canada\"],[\"United States\"],[\"United States\"],[\"United States\"],[\"United States\"],[\"United States\"],[\"United States\"],[\"United States\"],[\"Canada\"],[\"United States\"],[\"United States\"],[\"United States\"],[\"United States\"],[\"United States\"],[\"United States\"],[\"United States\"],[\"Canada\"],[\"United States\"],[\"Canada\"],[\"Canada\"],[\"United States\"],[\"United States\"],[\"United States\"],[\"United States\"],[\"United States\"],[\"United States\"],[\"Canada\"],[\"United States\"],[\"United States\"],[\"Canada\"],[\"United States\"],[\"United States\"],[\"United States\"],[\"Canada\"],[\"United States\"],[\"United States\"],[\"United States\"],[\"United States\"],[\"United States\"],[\"United States\"],[\"United States\"],[\"United States\"],[\"United States\"],[\"United States\"],[\"United States\"],[\"United States\"],[\"Canada\"],[\"United States\"],[\"United States\"],[\"United States\"],[\"United States\"],[\"United States\"],[\"United States\"],[\"United States\"],[\"United States\"],[\"Canada\"],[\"United States\"],[\"United States\"],[\"United States\"]],\"hovertemplate\":\"<b>%{hovertext}</b><br><br>Latitude=%{lat}<br>Longitude=%{lon}<br>Country=%{customdata[0]}<br>Rank_2022=%{marker.color}<extra></extra>\",\"hovertext\":[\"Massachusetts Institute of Technology (MIT) \",\"Stanford University\",\"Harvard University\",\"California Institute of Technology (Caltech)\",\"University of Chicago\",\"University of Pennsylvania\",\"Yale University\",\"Columbia University\",\"Princeton University\",\"Cornell University\",\"University of Michigan-Ann Arbor\",\"Johns Hopkins University\",\"University of Toronto\",\"McGill University\",\"Northwestern University\",\"University of California, Berkeley (UCB)\",\"University of California, Los Angeles (UCLA)\",\"New York University (NYU)\",\"University of British Columbia\",\"University of California, San Diego (UCSD)\",\"Duke University\",\"Carnegie Mellon University\",\"Brown University\",\"University of Texas at Austin\",\"University of Wisconsin-Madison\",\"University of Illinois at Urbana-Champaign\",\"University of Washington\",\"Georgia Institute of Technology\",\"Rice University\",\"Pennsylvania State University\",\"University of North Carolina, Chapel Hill\",\"Washington University in St. Louis\",\"University of California, Davis\",\"Universit\\u00e9 de Montr\\u00e9al \",\"Boston University\",\"University of Southern California\",\"Purdue University\",\"The Ohio State University\",\"University of Alberta\",\"McMaster University\",\"University of California, Santa Barbara (UCSB)\",\"University of Waterloo\",\"University of Rochester\",\"Michigan State University\",\"University of Maryland, College Park\",\"Emory University\",\"Case Western Reserve University\",\"University of Pittsburgh\",\"Texas A&M University\",\"Western University\",\"University of Florida\",\"University of Minnesota Twin Cities\",\"Dartmouth College\",\"Arizona State University\",\"Vanderbilt University\",\"University of Notre Dame\",\"University of Virginia\",\"University of Ottawa\",\"University of California, Irvine\",\"University of Calgary\",\"Queen's University at Kingston\",\"University of Massachusetts Amherst\",\"Georgetown University\",\"University of Colorado Boulder\",\"Yeshiva University\",\"Rutgers University\\u2013New Brunswick\",\"The University of Arizona\",\"Dalhousie University\",\"Tufts University\",\"University of Illinois at Chicago (UIC)\",\"Simon Fraser University\",\"North Carolina State University\",\"Indiana University Bloomington\",\"University of Miami\",\"University of Victoria (UVic)\",\"University of Hawai\\u02bbi at M\\u0101noa\",\"Northeastern University\",\"Virginia Polytechnic Institute and State University\",\"University of California, Santa Cruz\",\"George Washington University\",\"University of Utah\",\"University of Connecticut\",\"Stony Brook University, State University of New York\",\"University of Kansas\",\"University at Buffalo SUNY\",\"University of California, Riverside\",\"University of Colorado, Denver\",\"Laval University\",\"Washington State University\",\"Wake Forest University\",\"Colorado State University\",\"Rensselaer Polytechnic Institute\",\"Tulane University\",\"Illinois Institute of Technology\",\"Brandeis University\",\"University of Iowa\",\"University of Saskatchewan\",\"Colorado School of Mines\",\"Florida State University\",\"University of Missouri, Columbia\"],\"lat\":[42.360095,37.432974,42.374172,34.139181,41.790146,39.951002,41.312308,40.80775585,40.347141,42.448713,42.27803,39.329808,43.663462,45.5038108,42.058377,37.871666,34.052238,44.22842101,49.25839375,32.87924375,36.002344,40.443598,41.826853,30.2852198,43.073858,40.108312,47.6543238,33.776033,29.716218,40.84775835,35.90503535,38.64724015,38.53379035,45.50495675,42.349581,34.021058,40.4300927,40.00570905,53.52682,43.2639397,34.41412636,43.4701994,43.126397,42.72476,38.99203005,33.798836,41.504095,40.44415295,30.6108618,43.0054234,29.638248,44.97418732,43.705524,33.41728,36.14443,41.699587,38.0410576,45.42252705,33.6431901,51.07505395,47.5717143,42.388647,38.908809,40.004415,40.8508,40.50007595,33.4225987,44.6375234,42.406004,41.8689223,49.27821267,35.78488087,39.17867125,25.720406,48.46357031,21.30006389,42.340183,37.229906,36.98825595,38.899096,40.762484,41.807658,40.90563946,38.956474,42.96052811,33.97395461,39.74906588,46.78197403,46.730448,36.135301,40.57367556,42.728983,29.94175824,41.833801,42.364947,41.660695,52.13353199,39.749092,30.443222,null],\"legendgroup\":\"\",\"lon\":[-71.092115,-122.175045,-71.118234,-118.125567,-87.600922,-75.193618,-72.922511,-73.96164947,-74.657698,-76.476535,-83.736564,-76.620723,-79.39775966,-73.5750177,-87.673653,-122.272781,-118.24334,-74.69958787,-123.2465816,-117.2311247,-78.938597,-79.943485,-71.402925,-97.73389273,-89.405356,-88.228482,-122.3080089,-84.39884086,-95.404977,-77.8419996,-79.04775327,-90.30840173,-121.7907989,-73.61453887,-71.09984,-118.283858,-86.92651297,-83.02866466,-113.5244937,-79.91782519,-119.848926,-80.54524294,-77.631202,-84.473639,-76.9461029,-84.325782,-81.604893,-79.96246095,-96.35206061,-81.27480105,-82.361195,-93.22770704,-72.288842,-111.935499,-86.804875,-86.237075,-78.5054996,-75.68339042,-117.8401649,-114.1387617,-52.73450587,-72.529312,-77.073463,-105.267061,-73.928541,-74.44579152,-111.8527141,-63.5872235,-71.120641,-87.64858476,-122.9198618,-78.68213752,-86.51332733,-80.27645,-123.3116935,-157.8147799,-71.088069,-80.419988,-122.0581449,-77.046277,-111.846044,-72.256961,-73.12379301,-95.258651,-78.81970041,-117.3280644,-105.0020326,-71.27469949,-117.158168,-80.279004,-105.0865165,-73.678768,-90.12038566,-87.628346,-71.254716,-91.535698,-106.631326,-105.222907,-84.301554,null],\"marker\":{\"color\":[1,3,5,6,10,13,14,19,20,21,23,25,26,27,30,32,40,42,46,48,53,54,60,67,75,82,85,89,95,97,101,108,109,113,114,114,118,122,128,141,147,150,155,158,159,161,162,164,169,171,174,187,192,217,219,223,227,231,233,236,241,247,249,252,253,265,269,274,277,287,299,301,312,312,335,341,343,347,348,356,359,374,379,388,389,404,414,414,427,429,431,431,436,444,455,455,458,461,475,476],\"coloraxis\":\"coloraxis\"},\"mode\":\"markers\",\"name\":\"\",\"showlegend\":false,\"subplot\":\"mapbox\",\"type\":\"scattermapbox\"}],                        {\"template\":{\"data\":{\"bar\":[{\"error_x\":{\"color\":\"#2a3f5f\"},\"error_y\":{\"color\":\"#2a3f5f\"},\"marker\":{\"line\":{\"color\":\"#E5ECF6\",\"width\":0.5},\"pattern\":{\"fillmode\":\"overlay\",\"size\":10,\"solidity\":0.2}},\"type\":\"bar\"}],\"barpolar\":[{\"marker\":{\"line\":{\"color\":\"#E5ECF6\",\"width\":0.5},\"pattern\":{\"fillmode\":\"overlay\",\"size\":10,\"solidity\":0.2}},\"type\":\"barpolar\"}],\"carpet\":[{\"aaxis\":{\"endlinecolor\":\"#2a3f5f\",\"gridcolor\":\"white\",\"linecolor\":\"white\",\"minorgridcolor\":\"white\",\"startlinecolor\":\"#2a3f5f\"},\"baxis\":{\"endlinecolor\":\"#2a3f5f\",\"gridcolor\":\"white\",\"linecolor\":\"white\",\"minorgridcolor\":\"white\",\"startlinecolor\":\"#2a3f5f\"},\"type\":\"carpet\"}],\"choropleth\":[{\"colorbar\":{\"outlinewidth\":0,\"ticks\":\"\"},\"type\":\"choropleth\"}],\"contour\":[{\"colorbar\":{\"outlinewidth\":0,\"ticks\":\"\"},\"colorscale\":[[0.0,\"#0d0887\"],[0.1111111111111111,\"#46039f\"],[0.2222222222222222,\"#7201a8\"],[0.3333333333333333,\"#9c179e\"],[0.4444444444444444,\"#bd3786\"],[0.5555555555555556,\"#d8576b\"],[0.6666666666666666,\"#ed7953\"],[0.7777777777777778,\"#fb9f3a\"],[0.8888888888888888,\"#fdca26\"],[1.0,\"#f0f921\"]],\"type\":\"contour\"}],\"contourcarpet\":[{\"colorbar\":{\"outlinewidth\":0,\"ticks\":\"\"},\"type\":\"contourcarpet\"}],\"heatmap\":[{\"colorbar\":{\"outlinewidth\":0,\"ticks\":\"\"},\"colorscale\":[[0.0,\"#0d0887\"],[0.1111111111111111,\"#46039f\"],[0.2222222222222222,\"#7201a8\"],[0.3333333333333333,\"#9c179e\"],[0.4444444444444444,\"#bd3786\"],[0.5555555555555556,\"#d8576b\"],[0.6666666666666666,\"#ed7953\"],[0.7777777777777778,\"#fb9f3a\"],[0.8888888888888888,\"#fdca26\"],[1.0,\"#f0f921\"]],\"type\":\"heatmap\"}],\"heatmapgl\":[{\"colorbar\":{\"outlinewidth\":0,\"ticks\":\"\"},\"colorscale\":[[0.0,\"#0d0887\"],[0.1111111111111111,\"#46039f\"],[0.2222222222222222,\"#7201a8\"],[0.3333333333333333,\"#9c179e\"],[0.4444444444444444,\"#bd3786\"],[0.5555555555555556,\"#d8576b\"],[0.6666666666666666,\"#ed7953\"],[0.7777777777777778,\"#fb9f3a\"],[0.8888888888888888,\"#fdca26\"],[1.0,\"#f0f921\"]],\"type\":\"heatmapgl\"}],\"histogram\":[{\"marker\":{\"pattern\":{\"fillmode\":\"overlay\",\"size\":10,\"solidity\":0.2}},\"type\":\"histogram\"}],\"histogram2d\":[{\"colorbar\":{\"outlinewidth\":0,\"ticks\":\"\"},\"colorscale\":[[0.0,\"#0d0887\"],[0.1111111111111111,\"#46039f\"],[0.2222222222222222,\"#7201a8\"],[0.3333333333333333,\"#9c179e\"],[0.4444444444444444,\"#bd3786\"],[0.5555555555555556,\"#d8576b\"],[0.6666666666666666,\"#ed7953\"],[0.7777777777777778,\"#fb9f3a\"],[0.8888888888888888,\"#fdca26\"],[1.0,\"#f0f921\"]],\"type\":\"histogram2d\"}],\"histogram2dcontour\":[{\"colorbar\":{\"outlinewidth\":0,\"ticks\":\"\"},\"colorscale\":[[0.0,\"#0d0887\"],[0.1111111111111111,\"#46039f\"],[0.2222222222222222,\"#7201a8\"],[0.3333333333333333,\"#9c179e\"],[0.4444444444444444,\"#bd3786\"],[0.5555555555555556,\"#d8576b\"],[0.6666666666666666,\"#ed7953\"],[0.7777777777777778,\"#fb9f3a\"],[0.8888888888888888,\"#fdca26\"],[1.0,\"#f0f921\"]],\"type\":\"histogram2dcontour\"}],\"mesh3d\":[{\"colorbar\":{\"outlinewidth\":0,\"ticks\":\"\"},\"type\":\"mesh3d\"}],\"parcoords\":[{\"line\":{\"colorbar\":{\"outlinewidth\":0,\"ticks\":\"\"}},\"type\":\"parcoords\"}],\"pie\":[{\"automargin\":true,\"type\":\"pie\"}],\"scatter\":[{\"marker\":{\"colorbar\":{\"outlinewidth\":0,\"ticks\":\"\"}},\"type\":\"scatter\"}],\"scatter3d\":[{\"line\":{\"colorbar\":{\"outlinewidth\":0,\"ticks\":\"\"}},\"marker\":{\"colorbar\":{\"outlinewidth\":0,\"ticks\":\"\"}},\"type\":\"scatter3d\"}],\"scattercarpet\":[{\"marker\":{\"colorbar\":{\"outlinewidth\":0,\"ticks\":\"\"}},\"type\":\"scattercarpet\"}],\"scattergeo\":[{\"marker\":{\"colorbar\":{\"outlinewidth\":0,\"ticks\":\"\"}},\"type\":\"scattergeo\"}],\"scattergl\":[{\"marker\":{\"colorbar\":{\"outlinewidth\":0,\"ticks\":\"\"}},\"type\":\"scattergl\"}],\"scattermapbox\":[{\"marker\":{\"colorbar\":{\"outlinewidth\":0,\"ticks\":\"\"}},\"type\":\"scattermapbox\"}],\"scatterpolar\":[{\"marker\":{\"colorbar\":{\"outlinewidth\":0,\"ticks\":\"\"}},\"type\":\"scatterpolar\"}],\"scatterpolargl\":[{\"marker\":{\"colorbar\":{\"outlinewidth\":0,\"ticks\":\"\"}},\"type\":\"scatterpolargl\"}],\"scatterternary\":[{\"marker\":{\"colorbar\":{\"outlinewidth\":0,\"ticks\":\"\"}},\"type\":\"scatterternary\"}],\"surface\":[{\"colorbar\":{\"outlinewidth\":0,\"ticks\":\"\"},\"colorscale\":[[0.0,\"#0d0887\"],[0.1111111111111111,\"#46039f\"],[0.2222222222222222,\"#7201a8\"],[0.3333333333333333,\"#9c179e\"],[0.4444444444444444,\"#bd3786\"],[0.5555555555555556,\"#d8576b\"],[0.6666666666666666,\"#ed7953\"],[0.7777777777777778,\"#fb9f3a\"],[0.8888888888888888,\"#fdca26\"],[1.0,\"#f0f921\"]],\"type\":\"surface\"}],\"table\":[{\"cells\":{\"fill\":{\"color\":\"#EBF0F8\"},\"line\":{\"color\":\"white\"}},\"header\":{\"fill\":{\"color\":\"#C8D4E3\"},\"line\":{\"color\":\"white\"}},\"type\":\"table\"}]},\"layout\":{\"annotationdefaults\":{\"arrowcolor\":\"#2a3f5f\",\"arrowhead\":0,\"arrowwidth\":1},\"autotypenumbers\":\"strict\",\"coloraxis\":{\"colorbar\":{\"outlinewidth\":0,\"ticks\":\"\"}},\"colorscale\":{\"diverging\":[[0,\"#8e0152\"],[0.1,\"#c51b7d\"],[0.2,\"#de77ae\"],[0.3,\"#f1b6da\"],[0.4,\"#fde0ef\"],[0.5,\"#f7f7f7\"],[0.6,\"#e6f5d0\"],[0.7,\"#b8e186\"],[0.8,\"#7fbc41\"],[0.9,\"#4d9221\"],[1,\"#276419\"]],\"sequential\":[[0.0,\"#0d0887\"],[0.1111111111111111,\"#46039f\"],[0.2222222222222222,\"#7201a8\"],[0.3333333333333333,\"#9c179e\"],[0.4444444444444444,\"#bd3786\"],[0.5555555555555556,\"#d8576b\"],[0.6666666666666666,\"#ed7953\"],[0.7777777777777778,\"#fb9f3a\"],[0.8888888888888888,\"#fdca26\"],[1.0,\"#f0f921\"]],\"sequentialminus\":[[0.0,\"#0d0887\"],[0.1111111111111111,\"#46039f\"],[0.2222222222222222,\"#7201a8\"],[0.3333333333333333,\"#9c179e\"],[0.4444444444444444,\"#bd3786\"],[0.5555555555555556,\"#d8576b\"],[0.6666666666666666,\"#ed7953\"],[0.7777777777777778,\"#fb9f3a\"],[0.8888888888888888,\"#fdca26\"],[1.0,\"#f0f921\"]]},\"colorway\":[\"#636efa\",\"#EF553B\",\"#00cc96\",\"#ab63fa\",\"#FFA15A\",\"#19d3f3\",\"#FF6692\",\"#B6E880\",\"#FF97FF\",\"#FECB52\"],\"font\":{\"color\":\"#2a3f5f\"},\"geo\":{\"bgcolor\":\"white\",\"lakecolor\":\"white\",\"landcolor\":\"#E5ECF6\",\"showlakes\":true,\"showland\":true,\"subunitcolor\":\"white\"},\"hoverlabel\":{\"align\":\"left\"},\"hovermode\":\"closest\",\"mapbox\":{\"style\":\"light\"},\"paper_bgcolor\":\"white\",\"plot_bgcolor\":\"#E5ECF6\",\"polar\":{\"angularaxis\":{\"gridcolor\":\"white\",\"linecolor\":\"white\",\"ticks\":\"\"},\"bgcolor\":\"#E5ECF6\",\"radialaxis\":{\"gridcolor\":\"white\",\"linecolor\":\"white\",\"ticks\":\"\"}},\"scene\":{\"xaxis\":{\"backgroundcolor\":\"#E5ECF6\",\"gridcolor\":\"white\",\"gridwidth\":2,\"linecolor\":\"white\",\"showbackground\":true,\"ticks\":\"\",\"zerolinecolor\":\"white\"},\"yaxis\":{\"backgroundcolor\":\"#E5ECF6\",\"gridcolor\":\"white\",\"gridwidth\":2,\"linecolor\":\"white\",\"showbackground\":true,\"ticks\":\"\",\"zerolinecolor\":\"white\"},\"zaxis\":{\"backgroundcolor\":\"#E5ECF6\",\"gridcolor\":\"white\",\"gridwidth\":2,\"linecolor\":\"white\",\"showbackground\":true,\"ticks\":\"\",\"zerolinecolor\":\"white\"}},\"shapedefaults\":{\"line\":{\"color\":\"#2a3f5f\"}},\"ternary\":{\"aaxis\":{\"gridcolor\":\"white\",\"linecolor\":\"white\",\"ticks\":\"\"},\"baxis\":{\"gridcolor\":\"white\",\"linecolor\":\"white\",\"ticks\":\"\"},\"bgcolor\":\"#E5ECF6\",\"caxis\":{\"gridcolor\":\"white\",\"linecolor\":\"white\",\"ticks\":\"\"}},\"title\":{\"x\":0.05},\"xaxis\":{\"automargin\":true,\"gridcolor\":\"white\",\"linecolor\":\"white\",\"ticks\":\"\",\"title\":{\"standoff\":15},\"zerolinecolor\":\"white\",\"zerolinewidth\":2},\"yaxis\":{\"automargin\":true,\"gridcolor\":\"white\",\"linecolor\":\"white\",\"ticks\":\"\",\"title\":{\"standoff\":15},\"zerolinecolor\":\"white\",\"zerolinewidth\":2}}},\"mapbox\":{\"domain\":{\"x\":[0.0,1.0],\"y\":[0.0,1.0]},\"center\":{\"lat\":39.9777538849495,\"lon\":-90.03317475010097},\"accesstoken\":\"pk.eyJ1IjoiYWZuYW5ldG1hbiIsImEiOiJjbDJqN3F5cW0wMHprM2VwazQ0aHdvZDBhIn0.X032SoU1tft9zgusUaEqSQ\",\"zoom\":2,\"style\":\"open-street-map\"},\"coloraxis\":{\"colorbar\":{\"title\":{\"text\":\"Rank_2022\"}},\"colorscale\":[[0.0,\"#0d0887\"],[0.1111111111111111,\"#46039f\"],[0.2222222222222222,\"#7201a8\"],[0.3333333333333333,\"#9c179e\"],[0.4444444444444444,\"#bd3786\"],[0.5555555555555556,\"#d8576b\"],[0.6666666666666666,\"#ed7953\"],[0.7777777777777778,\"#fb9f3a\"],[0.8888888888888888,\"#fdca26\"],[1.0,\"#f0f921\"]]},\"legend\":{\"tracegroupgap\":0},\"margin\":{\"t\":60}},                        {\"responsive\": true}                    ).then(function(){\n",
              "                            \n",
              "var gd = document.getElementById('1b715305-9ca7-4e93-ac9d-4016ed4bdcb5');\n",
              "var x = new MutationObserver(function (mutations, observer) {{\n",
              "        var display = window.getComputedStyle(gd).display;\n",
              "        if (!display || display === 'none') {{\n",
              "            console.log([gd, 'removed!']);\n",
              "            Plotly.purge(gd);\n",
              "            observer.disconnect();\n",
              "        }}\n",
              "}});\n",
              "\n",
              "// Listen for the removal of the full notebook cells\n",
              "var notebookContainer = gd.closest('#notebook-container');\n",
              "if (notebookContainer) {{\n",
              "    x.observe(notebookContainer, {childList: true});\n",
              "}}\n",
              "\n",
              "// Listen for the clearing of the current output cell\n",
              "var outputEl = gd.closest('.output');\n",
              "if (outputEl) {{\n",
              "    x.observe(outputEl, {childList: true});\n",
              "}}\n",
              "\n",
              "                        })                };                            </script>        </div>\n",
              "</body>\n",
              "</html>"
            ]
          },
          "metadata": {}
        }
      ]
    },
    {
      "cell_type": "code",
      "source": [
        "app.layout = html.Div(children=[\n",
        "    html.Div([\n",
        "        html.H1('Ranking of Universities Around the World'),\n",
        "        html.Div(dcc.Graph(figure=fig))\n",
        "    ])\n",
        "])"
      ],
      "metadata": {
        "id": "YWO657eKepOT"
      },
      "execution_count": 32,
      "outputs": []
    },
    {
      "cell_type": "code",
      "source": [
        "app.run_server()"
      ],
      "metadata": {
        "colab": {
          "base_uri": "https://localhost:8080/",
          "height": 52
        },
        "id": "COkPFBnQfBRG",
        "outputId": "95445a5e-9596-4bca-ec72-30b7631c6429"
      },
      "execution_count": 33,
      "outputs": [
        {
          "output_type": "stream",
          "name": "stdout",
          "text": [
            "Dash app running on:\n"
          ]
        },
        {
          "output_type": "display_data",
          "data": {
            "text/plain": [
              "<IPython.core.display.Javascript object>"
            ],
            "application/javascript": [
              "(async (port, path, text, element) => {\n",
              "    if (!google.colab.kernel.accessAllowed) {\n",
              "      return;\n",
              "    }\n",
              "    element.appendChild(document.createTextNode(''));\n",
              "    const url = await google.colab.kernel.proxyPort(port);\n",
              "    const anchor = document.createElement('a');\n",
              "    anchor.href = new URL(path, url).toString();\n",
              "    anchor.target = '_blank';\n",
              "    anchor.setAttribute('data-href', url + path);\n",
              "    anchor.textContent = text;\n",
              "    element.appendChild(anchor);\n",
              "  })(8050, \"/\", \"http://127.0.0.1:8050/\", window.element)"
            ]
          },
          "metadata": {}
        }
      ]
    },
    {
      "cell_type": "code",
      "source": [
        ""
      ],
      "metadata": {
        "id": "MeSZrLB3wGlW"
      },
      "execution_count": null,
      "outputs": []
    }
  ]
}