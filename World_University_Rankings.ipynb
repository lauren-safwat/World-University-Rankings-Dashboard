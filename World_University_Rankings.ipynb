{
  "nbformat": 4,
  "nbformat_minor": 0,
  "metadata": {
    "colab": {
      "name": "World University Rankings.ipynb",
      "provenance": [],
      "include_colab_link": true
    },
    "kernelspec": {
      "name": "python3",
      "display_name": "Python 3"
    },
    "language_info": {
      "name": "python"
    }
  },
  "cells": [
    {
      "cell_type": "markdown",
      "metadata": {
        "id": "view-in-github",
        "colab_type": "text"
      },
      "source": [
        "<a href=\"https://colab.research.google.com/github/lauren-safwat/World-University-Rankings-Dashboard/blob/main/World_University_Rankings.ipynb\" target=\"_parent\"><img src=\"https://colab.research.google.com/assets/colab-badge.svg\" alt=\"Open In Colab\"/></a>"
      ]
    },
    {
      "cell_type": "code",
      "source": [
        "# !pip3 install dash\n",
        "# !pip3 install jupyter_dash\n",
        "# !pip3 install dash_bootstrap_components"
      ],
      "metadata": {
        "id": "X17hhcl0QFfi"
      },
      "execution_count": 1129,
      "outputs": []
    },
    {
      "cell_type": "code",
      "execution_count": 1130,
      "metadata": {
        "id": "ZnWq2iRlUMkG"
      },
      "outputs": [],
      "source": [
        "import pandas as pd\n",
        "import numpy as np\n",
        "import matplotlib.pyplot as plt\n",
        "import seaborn as sns\n",
        "sns.set_style('whitegrid')\n",
        "\n",
        "import jupyter_dash\n",
        "from dash import Dash, html, dcc, no_update\n",
        "from dash.dependencies import Input, Output, State\n",
        "import dash_bootstrap_components as dbc\n",
        "from dash.exceptions import PreventUpdate\n",
        "import plotly.express as px\n",
        "import plotly.graph_objs as go\n",
        "from datetime import date\n",
        "from datetime import datetime\n",
        "from plotly.subplots import make_subplots\n",
        "from math import ceil"
      ]
    },
    {
      "cell_type": "code",
      "source": [
        "unis = pd.read_csv('World_University_Rankings.csv')"
      ],
      "metadata": {
        "id": "NSkC410eb-kC"
      },
      "execution_count": 1131,
      "outputs": []
    },
    {
      "cell_type": "code",
      "source": [
        "# unis[:100]"
      ],
      "metadata": {
        "id": "VjsqprZsaNfW"
      },
      "execution_count": 1132,
      "outputs": []
    },
    {
      "cell_type": "code",
      "source": [
        "unis.info()"
      ],
      "metadata": {
        "colab": {
          "base_uri": "https://localhost:8080/"
        },
        "id": "C6q1EjqLm2Zw",
        "outputId": "87c284d9-97d4-4fd1-f942-cafed7fc1cc5"
      },
      "execution_count": 1133,
      "outputs": [
        {
          "output_type": "stream",
          "name": "stdout",
          "text": [
            "<class 'pandas.core.frame.DataFrame'>\n",
            "RangeIndex: 1373 entries, 0 to 1372\n",
            "Data columns (total 19 columns):\n",
            " #   Column                  Non-Null Count  Dtype  \n",
            "---  ------                  --------------  -----  \n",
            " 0   University              1373 non-null   object \n",
            " 1   Country                 1373 non-null   object \n",
            " 2   City                    1322 non-null   object \n",
            " 3   Region                  1373 non-null   object \n",
            " 4   Logo                    1373 non-null   object \n",
            " 5   Link                    1373 non-null   object \n",
            " 6   Type                    1373 non-null   object \n",
            " 7   Size                    1373 non-null   object \n",
            " 8   Faculty_count           1373 non-null   int64  \n",
            " 9   International_Students  1373 non-null   int64  \n",
            " 10  Students_count          1373 non-null   int64  \n",
            " 11  Rank_2017               1373 non-null   int64  \n",
            " 12  Rank_2018               1373 non-null   int64  \n",
            " 13  Rank_2019               1373 non-null   int64  \n",
            " 14  Rank_2020               1373 non-null   int64  \n",
            " 15  Rank_2021               1373 non-null   int64  \n",
            " 16  Rank_2022               1373 non-null   int64  \n",
            " 17  Latitude                550 non-null    float64\n",
            " 18  Longitude               550 non-null    float64\n",
            "dtypes: float64(2), int64(9), object(8)\n",
            "memory usage: 203.9+ KB\n"
          ]
        }
      ]
    },
    {
      "cell_type": "code",
      "source": [
        "labels=['International Students','National Students']\n",
        "international=unis[unis['University']=='Cairo University']['International_Students'].values[0]\n",
        "all=unis[unis['University']=='Cairo University']['Students_count'].values[0]\n",
        "values = [international,all-international]\n",
        "specs = np.array([[{'type':'domain'}, {'type':'domain'}], [{'type':'domain'}, {'type':'domain'}]])\n",
        "specs = [{'type':'domain'}]*4\n",
        "specs = np.array(specs).reshape(2,2)\n",
        "print(specs.tolist())\n",
        "\n",
        "fig = make_subplots(rows=2, cols=2,specs=specs.tolist())\n",
        "fig .add_trace(go.Pie(labels=labels, values=values,\n",
        "                             text=values,\n",
        "                             marker = dict(colors = ['pink','blue'])\n",
        "                             ),1,1)\n",
        "fig .add_trace(go.Pie(labels=labels, values=values,\n",
        "                             text=values,\n",
        "                             marker = dict(colors = ['pink','blue'])\n",
        "                             ),1,2)\n",
        "fig .add_trace(go.Pie(labels=labels, values=values,\n",
        "                             text=values,\n",
        "                             marker = dict(colors = ['pink','blue'])\n",
        "                             ),2,1)\n",
        "fig .add_trace(go.Pie(labels=labels, values=values,\n",
        "                             text=values,\n",
        "                             marker = dict(colors = ['pink','blue'])\n",
        "                             ),2,2)\n",
        "\n",
        "fig.update_layout(title=\"Internationl Students Vs National Students \")\n",
        "fig.show()"
      ],
      "metadata": {
        "colab": {
          "base_uri": "https://localhost:8080/",
          "height": 559
        },
        "id": "YeAU4_Q6cDRt",
        "outputId": "6d8ce5e7-2d0d-4065-aad7-9f5de268aef6"
      },
      "execution_count": 1134,
      "outputs": [
        {
          "output_type": "stream",
          "name": "stdout",
          "text": [
            "[[{'type': 'domain'}, {'type': 'domain'}], [{'type': 'domain'}, {'type': 'domain'}]]\n"
          ]
        },
        {
          "output_type": "display_data",
          "data": {
            "text/html": [
              "<html>\n",
              "<head><meta charset=\"utf-8\" /></head>\n",
              "<body>\n",
              "    <div>            <script src=\"https://cdnjs.cloudflare.com/ajax/libs/mathjax/2.7.5/MathJax.js?config=TeX-AMS-MML_SVG\"></script><script type=\"text/javascript\">if (window.MathJax) {MathJax.Hub.Config({SVG: {font: \"STIX-Web\"}});}</script>                <script type=\"text/javascript\">window.PlotlyConfig = {MathJaxConfig: 'local'};</script>\n",
              "        <script src=\"https://cdn.plot.ly/plotly-2.8.3.min.js\"></script>                <div id=\"17d20e51-5f62-42cd-a455-7257d2b575fa\" class=\"plotly-graph-div\" style=\"height:525px; width:100%;\"></div>            <script type=\"text/javascript\">                                    window.PLOTLYENV=window.PLOTLYENV || {};                                    if (document.getElementById(\"17d20e51-5f62-42cd-a455-7257d2b575fa\")) {                    Plotly.newPlot(                        \"17d20e51-5f62-42cd-a455-7257d2b575fa\",                        [{\"labels\":[\"International Students\",\"National Students\"],\"marker\":{\"colors\":[\"pink\",\"blue\"]},\"text\":[10,182],\"values\":[10,182],\"type\":\"pie\",\"domain\":{\"x\":[0.0,0.45],\"y\":[0.575,1.0]}},{\"labels\":[\"International Students\",\"National Students\"],\"marker\":{\"colors\":[\"pink\",\"blue\"]},\"text\":[10,182],\"values\":[10,182],\"type\":\"pie\",\"domain\":{\"x\":[0.55,1.0],\"y\":[0.575,1.0]}},{\"labels\":[\"International Students\",\"National Students\"],\"marker\":{\"colors\":[\"pink\",\"blue\"]},\"text\":[10,182],\"values\":[10,182],\"type\":\"pie\",\"domain\":{\"x\":[0.0,0.45],\"y\":[0.0,0.425]}},{\"labels\":[\"International Students\",\"National Students\"],\"marker\":{\"colors\":[\"pink\",\"blue\"]},\"text\":[10,182],\"values\":[10,182],\"type\":\"pie\",\"domain\":{\"x\":[0.55,1.0],\"y\":[0.0,0.425]}}],                        {\"template\":{\"data\":{\"bar\":[{\"error_x\":{\"color\":\"#2a3f5f\"},\"error_y\":{\"color\":\"#2a3f5f\"},\"marker\":{\"line\":{\"color\":\"#E5ECF6\",\"width\":0.5},\"pattern\":{\"fillmode\":\"overlay\",\"size\":10,\"solidity\":0.2}},\"type\":\"bar\"}],\"barpolar\":[{\"marker\":{\"line\":{\"color\":\"#E5ECF6\",\"width\":0.5},\"pattern\":{\"fillmode\":\"overlay\",\"size\":10,\"solidity\":0.2}},\"type\":\"barpolar\"}],\"carpet\":[{\"aaxis\":{\"endlinecolor\":\"#2a3f5f\",\"gridcolor\":\"white\",\"linecolor\":\"white\",\"minorgridcolor\":\"white\",\"startlinecolor\":\"#2a3f5f\"},\"baxis\":{\"endlinecolor\":\"#2a3f5f\",\"gridcolor\":\"white\",\"linecolor\":\"white\",\"minorgridcolor\":\"white\",\"startlinecolor\":\"#2a3f5f\"},\"type\":\"carpet\"}],\"choropleth\":[{\"colorbar\":{\"outlinewidth\":0,\"ticks\":\"\"},\"type\":\"choropleth\"}],\"contour\":[{\"colorbar\":{\"outlinewidth\":0,\"ticks\":\"\"},\"colorscale\":[[0.0,\"#0d0887\"],[0.1111111111111111,\"#46039f\"],[0.2222222222222222,\"#7201a8\"],[0.3333333333333333,\"#9c179e\"],[0.4444444444444444,\"#bd3786\"],[0.5555555555555556,\"#d8576b\"],[0.6666666666666666,\"#ed7953\"],[0.7777777777777778,\"#fb9f3a\"],[0.8888888888888888,\"#fdca26\"],[1.0,\"#f0f921\"]],\"type\":\"contour\"}],\"contourcarpet\":[{\"colorbar\":{\"outlinewidth\":0,\"ticks\":\"\"},\"type\":\"contourcarpet\"}],\"heatmap\":[{\"colorbar\":{\"outlinewidth\":0,\"ticks\":\"\"},\"colorscale\":[[0.0,\"#0d0887\"],[0.1111111111111111,\"#46039f\"],[0.2222222222222222,\"#7201a8\"],[0.3333333333333333,\"#9c179e\"],[0.4444444444444444,\"#bd3786\"],[0.5555555555555556,\"#d8576b\"],[0.6666666666666666,\"#ed7953\"],[0.7777777777777778,\"#fb9f3a\"],[0.8888888888888888,\"#fdca26\"],[1.0,\"#f0f921\"]],\"type\":\"heatmap\"}],\"heatmapgl\":[{\"colorbar\":{\"outlinewidth\":0,\"ticks\":\"\"},\"colorscale\":[[0.0,\"#0d0887\"],[0.1111111111111111,\"#46039f\"],[0.2222222222222222,\"#7201a8\"],[0.3333333333333333,\"#9c179e\"],[0.4444444444444444,\"#bd3786\"],[0.5555555555555556,\"#d8576b\"],[0.6666666666666666,\"#ed7953\"],[0.7777777777777778,\"#fb9f3a\"],[0.8888888888888888,\"#fdca26\"],[1.0,\"#f0f921\"]],\"type\":\"heatmapgl\"}],\"histogram\":[{\"marker\":{\"pattern\":{\"fillmode\":\"overlay\",\"size\":10,\"solidity\":0.2}},\"type\":\"histogram\"}],\"histogram2d\":[{\"colorbar\":{\"outlinewidth\":0,\"ticks\":\"\"},\"colorscale\":[[0.0,\"#0d0887\"],[0.1111111111111111,\"#46039f\"],[0.2222222222222222,\"#7201a8\"],[0.3333333333333333,\"#9c179e\"],[0.4444444444444444,\"#bd3786\"],[0.5555555555555556,\"#d8576b\"],[0.6666666666666666,\"#ed7953\"],[0.7777777777777778,\"#fb9f3a\"],[0.8888888888888888,\"#fdca26\"],[1.0,\"#f0f921\"]],\"type\":\"histogram2d\"}],\"histogram2dcontour\":[{\"colorbar\":{\"outlinewidth\":0,\"ticks\":\"\"},\"colorscale\":[[0.0,\"#0d0887\"],[0.1111111111111111,\"#46039f\"],[0.2222222222222222,\"#7201a8\"],[0.3333333333333333,\"#9c179e\"],[0.4444444444444444,\"#bd3786\"],[0.5555555555555556,\"#d8576b\"],[0.6666666666666666,\"#ed7953\"],[0.7777777777777778,\"#fb9f3a\"],[0.8888888888888888,\"#fdca26\"],[1.0,\"#f0f921\"]],\"type\":\"histogram2dcontour\"}],\"mesh3d\":[{\"colorbar\":{\"outlinewidth\":0,\"ticks\":\"\"},\"type\":\"mesh3d\"}],\"parcoords\":[{\"line\":{\"colorbar\":{\"outlinewidth\":0,\"ticks\":\"\"}},\"type\":\"parcoords\"}],\"pie\":[{\"automargin\":true,\"type\":\"pie\"}],\"scatter\":[{\"marker\":{\"colorbar\":{\"outlinewidth\":0,\"ticks\":\"\"}},\"type\":\"scatter\"}],\"scatter3d\":[{\"line\":{\"colorbar\":{\"outlinewidth\":0,\"ticks\":\"\"}},\"marker\":{\"colorbar\":{\"outlinewidth\":0,\"ticks\":\"\"}},\"type\":\"scatter3d\"}],\"scattercarpet\":[{\"marker\":{\"colorbar\":{\"outlinewidth\":0,\"ticks\":\"\"}},\"type\":\"scattercarpet\"}],\"scattergeo\":[{\"marker\":{\"colorbar\":{\"outlinewidth\":0,\"ticks\":\"\"}},\"type\":\"scattergeo\"}],\"scattergl\":[{\"marker\":{\"colorbar\":{\"outlinewidth\":0,\"ticks\":\"\"}},\"type\":\"scattergl\"}],\"scattermapbox\":[{\"marker\":{\"colorbar\":{\"outlinewidth\":0,\"ticks\":\"\"}},\"type\":\"scattermapbox\"}],\"scatterpolar\":[{\"marker\":{\"colorbar\":{\"outlinewidth\":0,\"ticks\":\"\"}},\"type\":\"scatterpolar\"}],\"scatterpolargl\":[{\"marker\":{\"colorbar\":{\"outlinewidth\":0,\"ticks\":\"\"}},\"type\":\"scatterpolargl\"}],\"scatterternary\":[{\"marker\":{\"colorbar\":{\"outlinewidth\":0,\"ticks\":\"\"}},\"type\":\"scatterternary\"}],\"surface\":[{\"colorbar\":{\"outlinewidth\":0,\"ticks\":\"\"},\"colorscale\":[[0.0,\"#0d0887\"],[0.1111111111111111,\"#46039f\"],[0.2222222222222222,\"#7201a8\"],[0.3333333333333333,\"#9c179e\"],[0.4444444444444444,\"#bd3786\"],[0.5555555555555556,\"#d8576b\"],[0.6666666666666666,\"#ed7953\"],[0.7777777777777778,\"#fb9f3a\"],[0.8888888888888888,\"#fdca26\"],[1.0,\"#f0f921\"]],\"type\":\"surface\"}],\"table\":[{\"cells\":{\"fill\":{\"color\":\"#EBF0F8\"},\"line\":{\"color\":\"white\"}},\"header\":{\"fill\":{\"color\":\"#C8D4E3\"},\"line\":{\"color\":\"white\"}},\"type\":\"table\"}]},\"layout\":{\"annotationdefaults\":{\"arrowcolor\":\"#2a3f5f\",\"arrowhead\":0,\"arrowwidth\":1},\"autotypenumbers\":\"strict\",\"coloraxis\":{\"colorbar\":{\"outlinewidth\":0,\"ticks\":\"\"}},\"colorscale\":{\"diverging\":[[0,\"#8e0152\"],[0.1,\"#c51b7d\"],[0.2,\"#de77ae\"],[0.3,\"#f1b6da\"],[0.4,\"#fde0ef\"],[0.5,\"#f7f7f7\"],[0.6,\"#e6f5d0\"],[0.7,\"#b8e186\"],[0.8,\"#7fbc41\"],[0.9,\"#4d9221\"],[1,\"#276419\"]],\"sequential\":[[0.0,\"#0d0887\"],[0.1111111111111111,\"#46039f\"],[0.2222222222222222,\"#7201a8\"],[0.3333333333333333,\"#9c179e\"],[0.4444444444444444,\"#bd3786\"],[0.5555555555555556,\"#d8576b\"],[0.6666666666666666,\"#ed7953\"],[0.7777777777777778,\"#fb9f3a\"],[0.8888888888888888,\"#fdca26\"],[1.0,\"#f0f921\"]],\"sequentialminus\":[[0.0,\"#0d0887\"],[0.1111111111111111,\"#46039f\"],[0.2222222222222222,\"#7201a8\"],[0.3333333333333333,\"#9c179e\"],[0.4444444444444444,\"#bd3786\"],[0.5555555555555556,\"#d8576b\"],[0.6666666666666666,\"#ed7953\"],[0.7777777777777778,\"#fb9f3a\"],[0.8888888888888888,\"#fdca26\"],[1.0,\"#f0f921\"]]},\"colorway\":[\"#636efa\",\"#EF553B\",\"#00cc96\",\"#ab63fa\",\"#FFA15A\",\"#19d3f3\",\"#FF6692\",\"#B6E880\",\"#FF97FF\",\"#FECB52\"],\"font\":{\"color\":\"#2a3f5f\"},\"geo\":{\"bgcolor\":\"white\",\"lakecolor\":\"white\",\"landcolor\":\"#E5ECF6\",\"showlakes\":true,\"showland\":true,\"subunitcolor\":\"white\"},\"hoverlabel\":{\"align\":\"left\"},\"hovermode\":\"closest\",\"mapbox\":{\"style\":\"light\"},\"paper_bgcolor\":\"white\",\"plot_bgcolor\":\"#E5ECF6\",\"polar\":{\"angularaxis\":{\"gridcolor\":\"white\",\"linecolor\":\"white\",\"ticks\":\"\"},\"bgcolor\":\"#E5ECF6\",\"radialaxis\":{\"gridcolor\":\"white\",\"linecolor\":\"white\",\"ticks\":\"\"}},\"scene\":{\"xaxis\":{\"backgroundcolor\":\"#E5ECF6\",\"gridcolor\":\"white\",\"gridwidth\":2,\"linecolor\":\"white\",\"showbackground\":true,\"ticks\":\"\",\"zerolinecolor\":\"white\"},\"yaxis\":{\"backgroundcolor\":\"#E5ECF6\",\"gridcolor\":\"white\",\"gridwidth\":2,\"linecolor\":\"white\",\"showbackground\":true,\"ticks\":\"\",\"zerolinecolor\":\"white\"},\"zaxis\":{\"backgroundcolor\":\"#E5ECF6\",\"gridcolor\":\"white\",\"gridwidth\":2,\"linecolor\":\"white\",\"showbackground\":true,\"ticks\":\"\",\"zerolinecolor\":\"white\"}},\"shapedefaults\":{\"line\":{\"color\":\"#2a3f5f\"}},\"ternary\":{\"aaxis\":{\"gridcolor\":\"white\",\"linecolor\":\"white\",\"ticks\":\"\"},\"baxis\":{\"gridcolor\":\"white\",\"linecolor\":\"white\",\"ticks\":\"\"},\"bgcolor\":\"#E5ECF6\",\"caxis\":{\"gridcolor\":\"white\",\"linecolor\":\"white\",\"ticks\":\"\"}},\"title\":{\"x\":0.05},\"xaxis\":{\"automargin\":true,\"gridcolor\":\"white\",\"linecolor\":\"white\",\"ticks\":\"\",\"title\":{\"standoff\":15},\"zerolinecolor\":\"white\",\"zerolinewidth\":2},\"yaxis\":{\"automargin\":true,\"gridcolor\":\"white\",\"linecolor\":\"white\",\"ticks\":\"\",\"title\":{\"standoff\":15},\"zerolinecolor\":\"white\",\"zerolinewidth\":2}}},\"title\":{\"text\":\"Internationl Students Vs National Students \"}},                        {\"responsive\": true}                    ).then(function(){\n",
              "                            \n",
              "var gd = document.getElementById('17d20e51-5f62-42cd-a455-7257d2b575fa');\n",
              "var x = new MutationObserver(function (mutations, observer) {{\n",
              "        var display = window.getComputedStyle(gd).display;\n",
              "        if (!display || display === 'none') {{\n",
              "            console.log([gd, 'removed!']);\n",
              "            Plotly.purge(gd);\n",
              "            observer.disconnect();\n",
              "        }}\n",
              "}});\n",
              "\n",
              "// Listen for the removal of the full notebook cells\n",
              "var notebookContainer = gd.closest('#notebook-container');\n",
              "if (notebookContainer) {{\n",
              "    x.observe(notebookContainer, {childList: true});\n",
              "}}\n",
              "\n",
              "// Listen for the clearing of the current output cell\n",
              "var outputEl = gd.closest('.output');\n",
              "if (outputEl) {{\n",
              "    x.observe(outputEl, {childList: true});\n",
              "}}\n",
              "\n",
              "                        })                };                            </script>        </div>\n",
              "</body>\n",
              "</html>"
            ]
          },
          "metadata": {}
        }
      ]
    },
    {
      "cell_type": "code",
      "source": [
        "# fig = go.Figure(layout_xaxis_range=[2017,2022])\n",
        "# university = ['Assiut University','Cairo University']\n",
        "\n",
        "\n",
        "# for uni in university:\n",
        "\n",
        "#     y=unis[unis['University']==uni].iloc[:,11:17].values.flatten().tolist()\n",
        "#     print(len(x),len(y))\n",
        "#     x = [x[i] for i in range(len(y)) if y[i]>0]\n",
        "#     y = [y[i] for i in range(len(y)) if y[i]>0]\n",
        "    \n",
        "#     fig.add_trace(go.Scatter(x=x, y=y, name=uni,\n",
        "#                         line_shape='linear'))\n",
        "#     fig.add_trace(go.Scatter(x=[x[y.index(np.min(y))]], y=[np.min(y)],name=str(min(y)), mode = 'markers',\n",
        "#                             marker_symbol = 'circle',\n",
        "#                             marker_size = 10))"
      ],
      "metadata": {
        "id": "bdlARfK8iGnO"
      },
      "execution_count": 1135,
      "outputs": []
    },
    {
      "cell_type": "code",
      "source": [
        "app = jupyter_dash.JupyterDash(external_stylesheets=[dbc.themes.BOOTSTRAP])"
      ],
      "metadata": {
        "id": "aPKq_gZdY1VH"
      },
      "execution_count": 1136,
      "outputs": []
    },
    {
      "cell_type": "code",
      "source": [
        "# x = np.logical_and(unis['Country']=='Russia', unis['Rank_2022']>0)\n",
        "# fig = px.scatter_mapbox(\n",
        "#         unis[x].iloc[:100,:], lon='Longitude', lat='Latitude', color='Rank_2022', hover_name='University', size_max=40, hover_data=['Country'], zoom=3)\n",
        "# fig.update_layout(mapbox_style=\"carto-positron\")\n",
        "# fig.show()"
      ],
      "metadata": {
        "id": "gi8ILcT9waMV"
      },
      "execution_count": 1137,
      "outputs": []
    },
    {
      "cell_type": "code",
      "source": [
        "app.layout = dbc.Container(children=[\n",
        "    dbc.Row([\n",
        "        dbc.Col(dcc.Graph(id='map', figure={}), width=8),\n",
        "        dbc.Col(html.Div(id='table', style={'maxHeight': '350px', 'overflowY': 'scroll'}))\n",
        "    ]),\n",
        "\n",
        "    dbc.Row([\n",
        "        dbc.Col(dcc.Slider(id='mapSlider',\n",
        "                  min=2017,\n",
        "                  max=2022,\n",
        "                  value=2022,\n",
        "                  step=None,\n",
        "                  marks={i: str(i) for i in range(2017, 2023)}\n",
        "                  ), width=6),\n",
        "             \n",
        "        dbc.Col(dcc.Dropdown([str(region) for region in unis['Region'].unique()], placeholder='Select Region', id='map_region'), width=3),\n",
        "        dbc.Col(dcc.Dropdown(placeholder='Select Country', id='map_country')),\n",
        "    ]),\n",
        "    \n",
        "\n",
        "    dbc.Row([\n",
        "        dbc.Col(\n",
        "            [dbc.Row(dcc.Graph(id='bar_uniCount', figure={})),     \n",
        "            dbc.Row(dbc.Col(dcc.Dropdown([str(region) for region in unis['Region'].unique()], placeholder='Select Region', id='bar_region_uniCount'),width=4))],\n",
        "            width=6\n",
        "        ),\n",
        "\n",
        "        dbc.Col(\n",
        "            [dbc.Row(dcc.Graph(id='bar_intCount', figure={})),     \n",
        "            dbc.Row(dbc.Col(dcc.Dropdown([str(region) for region in unis['Region'].unique()], placeholder='Select Region', id='bar_region_intCount'),width=4))],\n",
        "            width=6\n",
        "        )\n",
        "    ]),\n",
        "    dbc.Row([\n",
        "\n",
        "        dbc.Col(\n",
        "            [dbc.Row(dcc.Graph(id='pie_type', figure={})),     \n",
        "            dbc.Row([dbc.Col(dcc.Dropdown([str(region) for region in unis['Region'].unique()], placeholder='Select Region', id='pie_region_type'),width=4),\n",
        "                     dbc.Col(dcc.Dropdown(placeholder='Select Country', id='pie_country_type'),width=4)\n",
        "                     ])],\n",
        "            width=6\n",
        "        )\n",
        "    ]),\n",
        "        ################ SECOND PAGE GRAPHS ###############\n",
        "\n",
        "   \n",
        "   html.H1('Second Page Content'),\n",
        "    \n",
        "    dbc.Row([\n",
        "             dbc.Col(\n",
        "            dbc.Row(dcc.Graph(id='line_uni', figure={})),     \n",
        "            width=6\n",
        "        ),\n",
        "        dbc.Col([dbc.Col(dcc.Dropdown([str(region) for region in unis['Region'].unique()], placeholder='Select Region',multi=True, id='line_region_uni'),width=4),\n",
        "                          dbc.Col(dcc.Dropdown(placeholder='Select Country',multi=True, id='line_country_uni'),width=4),\n",
        "                          dbc.Col(dcc.Dropdown(placeholder='Select University',multi=True, id='line_uni_uni'),width=7),\n",
        "                          dbc.Col(dcc.Graph(id='pie_uni',figure ={}))\n",
        "                          ])\n",
        "    ])   \n",
        "   \n",
        "\n",
        "    \n",
        "    \n",
        "    \n",
        "\n",
        "\n",
        "])"
      ],
      "metadata": {
        "id": "YWO657eKepOT"
      },
      "execution_count": 1138,
      "outputs": []
    },
    {
      "cell_type": "code",
      "source": [
        "@app.callback(\n",
        "    Output('map_country', 'options'),\n",
        "    Output('map', 'figure'),\n",
        "    Output(\"table\", \"children\"),\n",
        "    Input('mapSlider', 'value'),\n",
        "    Input('map_region', 'value'),\n",
        "    Input('map_country', 'value')\n",
        ")\n",
        "\n",
        "\n",
        "def updateMap(year, region, country):\n",
        "    year = 'Rank_' + str(year)\n",
        "    df = unis[unis[year] > 0].sort_values(year, axis=0)\n",
        "    print\n",
        "    zoom = 0.1\n",
        "\n",
        "    if region:\n",
        "        zoom = 1.3\n",
        "        df = df[df['Region'] == region]\n",
        "\n",
        "    if country:\n",
        "        zoom = 2.5\n",
        "        df = df[df['Country'] == country]\n",
        "\n",
        "    # token = 'pk.eyJ1IjoiYWZuYW5ldG1hbiIsImEiOiJjbDJqN3F5cW0wMHprM2VwazQ0aHdvZDBhIn0.X032SoU1tft9zgusUaEqSQ'\n",
        "    # fig = go.Figure(go.Scattermapbox(lon=df[:100]['Longitude'],\n",
        "    #                                  lat=df[:100]['Latitude'],\n",
        "    #                                  mode='markers',\n",
        "    #                                  marker = {'size': 10, 'symbol': 'college'},\n",
        "    #                                  ))\n",
        "    # fig.update_layout(mapbox = {'accesstoken': token, 'style': \"outdoors\", 'zoom': zoom})\n",
        "\n",
        "    # px.set_mapbox_access_token('pk.eyJ1IjoiYWZuYW5ldG1hbiIsImEiOiJjbDJqN3F5cW0wMHprM2VwazQ0aHdvZDBhIn0.X032SoU1tft9zgusUaEqSQ')\n",
        "    fig = px.scatter_mapbox(df[:100],\n",
        "                            lon='Longitude',\n",
        "                            lat='Latitude',\n",
        "                            color=year,\n",
        "                            hover_name='University',\n",
        "                            hover_data=['Country'],\n",
        "                            zoom=zoom,\n",
        "                            title = 'Ranking of Universities Around the World',\n",
        "                            mapbox_style='carto-positron')\n",
        "    \n",
        "    fig.update_traces(marker = {'size':10, 'opacity':0.5}, selector={'type': 'scattermapbox'})\n",
        "\n",
        "    countries = [{'label': str(i), 'value':str(i)} for i in df['Country'].unique()]\n",
        "\n",
        "    table = dbc.Table.from_dataframe(df[[year, 'University']], striped=True, bordered=True, hover=True, responsive=True)\n",
        "    \n",
        "    return countries, fig, table"
      ],
      "metadata": {
        "id": "wAWl6M9LbdP7"
      },
      "execution_count": 1139,
      "outputs": []
    },
    {
      "cell_type": "code",
      "source": [
        "@app.callback(\n",
        "    Output('bar_uniCount', 'figure'),\n",
        "    Input('bar_region_uniCount', 'value'),\n",
        ")\n",
        "\n",
        "def updateBar(region):\n",
        "\n",
        "    #countries = [{'label': str(i), 'value':str(i)} for i in unis['Country'].unique()]\n",
        "    x=unis.groupby(['Region'])['University'].count()\n",
        "    y=x.keys()\n",
        "        \n",
        "\n",
        "    if region:\n",
        "        df = unis[unis['Region'] == region]\n",
        "        #countries = [{'label': str(i), 'value':str(i)} for i in df['Country'].unique()]\n",
        "        x=df.groupby(['Country'])['University'].count()\n",
        "        y=x.keys()\n",
        "    print(sorted(zip(x,y)))\n",
        "    x = [i[0] for i in sorted(zip(x,y))]\n",
        "    y = [i[1] for i in sorted(zip(x,y))]\n",
        "        \n",
        "    fig = go.Figure(go.Bar(\n",
        "                x=list(x),\n",
        "                y=list(y),\n",
        "                orientation='h',\n",
        "                text=x,\n",
        "                marker={\n",
        "                'color': x,\n",
        "                'colorscale': 'bluyl'\n",
        "                }))\n",
        "    fig.update_layout(title=\"University Count\",\n",
        "                      barmode='group',\n",
        "                      bargap=0.0,\n",
        "                      bargroupgap=0.0\n",
        "                     )\n",
        "    return fig"
      ],
      "metadata": {
        "id": "eG371q5RgkMH"
      },
      "execution_count": 1140,
      "outputs": []
    },
    {
      "cell_type": "code",
      "source": [
        "@app.callback(\n",
        "    Output('bar_intCount', 'figure'),\n",
        "    Input('bar_region_intCount', 'value'),\n",
        ")\n",
        "\n",
        "def updateBar(region):\n",
        "\n",
        "    #countries = [{'label': str(i), 'value':str(i)} for i in unis['Country'].unique()]\n",
        "    x=unis.groupby(['Region'])['International_Students'].sum()\n",
        "    y=x.keys()\n",
        "        \n",
        "\n",
        "    if region:\n",
        "        df = unis[unis['Region'] == region]\n",
        "        #countries = [{'label': str(i), 'value':str(i)} for i in df['Country'].unique()]\n",
        "        x=df.groupby(['Country'])['International_Students'].sum()\n",
        "        y=x.keys()\n",
        "    print(sorted(zip(x,y)))\n",
        "    x = [i[0] for i in sorted(zip(x,y))]\n",
        "    y = [i[1] for i in sorted(zip(x,y))]\n",
        "    \n",
        "    fig = go.Figure(go.Bar(\n",
        "                x=list(x),\n",
        "                y=list(y),\n",
        "                orientation='h',\n",
        "                text=x,\n",
        "                marker={\n",
        "                'color': x,\n",
        "                'colorscale': 'bluyl'\n",
        "                }))\n",
        "    fig.update_layout(title=\"Number of International Students\",\n",
        "                      barmode='group',\n",
        "                      bargap=0.0,\n",
        "                      bargroupgap=0.0)\n",
        "    return fig"
      ],
      "metadata": {
        "id": "P5wZnKQTmq57"
      },
      "execution_count": 1141,
      "outputs": []
    },
    {
      "cell_type": "code",
      "source": [
        "@app.callback(\n",
        "    Output('pie_country_type', 'options'),\n",
        "    Output('pie_type', 'figure'),\n",
        "    Input('pie_region_type', 'value'),\n",
        "    Input('pie_country_type', 'value')\n",
        ")\n",
        "\n",
        "def updateBar(region,country):\n",
        "    df=unis\n",
        "    labels=['Private','Public']        \n",
        "\n",
        "    if region:\n",
        "        df = unis[unis['Region'] == region]\n",
        "    if country :\n",
        "      df = df[df['Country'] == country]\n",
        "    \n",
        "    values=[df[df['Type']=='Private'].count()['University'],df[df['Type']=='Public'].count()['University']]\n",
        "    countries = [{'label': str(i), 'value':str(i)} for i in df['Country'].unique()]\n",
        "\n",
        "    fig = go.Figure(data=[go.Pie(labels=labels, values=values,\n",
        "                             text=values,\n",
        "                             marker = dict(colors = ['pink','blue'])\n",
        "                             )])\n",
        "    fig.update_layout(title=\"Public Vs Private Universites \")\n",
        "    return countries,fig\n"
      ],
      "metadata": {
        "id": "VZM_m97Y-Q--"
      },
      "execution_count": 1142,
      "outputs": []
    },
    {
      "cell_type": "code",
      "source": [
        "@app.callback(\n",
        "    Output('line_uni_uni', 'options'),\n",
        "    Output('line_country_uni', 'options'),\n",
        "    Output('line_uni', 'figure'),\n",
        "    Input('line_region_uni', 'value'),\n",
        "    Input('line_country_uni', 'value'),\n",
        "    Input('line_uni_uni', 'value')\n",
        ")\n",
        "\n",
        "def updateLine(region,country,university):\n",
        "  df = unis\n",
        "  \n",
        "  \n",
        "  if region :\n",
        "    df = unis[unis['Region'].isin(region) ]\n",
        "  if country :\n",
        "    df = df[df['Country'].isin(country)]\n",
        "  if not university:\n",
        "    university = ['Cairo University']\n",
        "  fig = go.Figure()\n",
        "  for uni in university:\n",
        "    x=np.arange(2017,2023)\n",
        "    y=df[df['University']==uni].iloc[:,11:17].values.flatten().tolist()\n",
        "    x = [x[i] for i in range(len(y)) if y[i]>0]\n",
        "    y = [y[i] for i in range(len(y)) if y[i]>0]\n",
        "    \n",
        "    fig.add_trace(go.Scatter(x=x, y=y, name=uni,\n",
        "                        line_shape='linear'))\n",
        "    fig.add_trace(go.Scatter(x=[x[y.index(np.min(y))]], y=[np.min(y)],name=str(min(y)), mode = 'markers',\n",
        "                            marker_symbol = 'circle',\n",
        "                            marker_size = 10))\n",
        "  fig['layout']['yaxis']['autorange'] = \"reversed\"\n",
        "  fig['layout']['xaxis']['dtick'] = 1\n",
        "  fig['layout']['showlegend'] = False\n",
        "  \n",
        "  countries = [{'label': str(i), 'value':str(i)} for i in df['Country'].unique()]\n",
        "  universities = [{'label': str(i), 'value':str(i)} for i in df['University'].unique()]\n",
        "  return universities, countries, fig\n",
        "\n"
      ],
      "metadata": {
        "id": "EGBJfdIeGM4w"
      },
      "execution_count": 1143,
      "outputs": []
    },
    {
      "cell_type": "code",
      "source": [
        "@app.callback(\n",
        "    Output('pie_uni', 'figure'),\n",
        "    Input('line_uni_uni', 'value')\n",
        ")\n",
        "\n",
        "def updateLine(university):\n",
        "  df = unis\n",
        "  labels=['International Students','National Students']\n",
        "  if not university:\n",
        "    university = ['Cairo University']\n",
        "  \n",
        "  cols = 2\n",
        "  rows = ceil(len(university)/cols)\n",
        "  specs = [{'type':'domain'}]*rows*cols\n",
        "  specs = np.array(specs).reshape(rows,cols)\n",
        "  fig = make_subplots(rows=rows, cols=2,specs=specs.tolist())\n",
        "  for i in range(1,len(university)+1):\n",
        "    international=unis[unis['University']==university[i-1]]['International_Students'].values[0]\n",
        "    all=unis[unis['University']==university[i-1]]['Students_count'].values[0]\n",
        "    values = [international,all-international]\n",
        "    col = 1\n",
        "    row = (i+1)//2\n",
        "    if i%2==0: col=2\n",
        "    else : col = 1\n",
        "    fig.add_trace(go.Pie(labels=labels, values=values,\n",
        "                             text=values,\n",
        "                             marker = dict(colors = ['pink','blue'])\n",
        "                             ),row,col)\n",
        "  fig['layout']['showlegend'] = False\n",
        "  #\n",
        "  \n",
        "  return fig\n",
        "\n"
      ],
      "metadata": {
        "id": "owlQIgkFU07V"
      },
      "execution_count": 1144,
      "outputs": []
    },
    {
      "cell_type": "code",
      "source": [
        "3//2"
      ],
      "metadata": {
        "colab": {
          "base_uri": "https://localhost:8080/"
        },
        "id": "KdGESVr0cYr0",
        "outputId": "1ea1021b-9d2c-4420-b129-1d09ca41ea51"
      },
      "execution_count": 1145,
      "outputs": [
        {
          "output_type": "execute_result",
          "data": {
            "text/plain": [
              "1"
            ]
          },
          "metadata": {},
          "execution_count": 1145
        }
      ]
    },
    {
      "cell_type": "code",
      "source": [
        "app.run_server()"
      ],
      "metadata": {
        "colab": {
          "base_uri": "https://localhost:8080/",
          "height": 52
        },
        "id": "COkPFBnQfBRG",
        "outputId": "e9b31ace-25cb-45d8-d7a0-06f1e3cf6a1c"
      },
      "execution_count": 1146,
      "outputs": [
        {
          "output_type": "stream",
          "name": "stdout",
          "text": [
            "Dash app running on:\n"
          ]
        },
        {
          "output_type": "display_data",
          "data": {
            "text/plain": [
              "<IPython.core.display.Javascript object>"
            ],
            "application/javascript": [
              "(async (port, path, text, element) => {\n",
              "    if (!google.colab.kernel.accessAllowed) {\n",
              "      return;\n",
              "    }\n",
              "    element.appendChild(document.createTextNode(''));\n",
              "    const url = await google.colab.kernel.proxyPort(port);\n",
              "    const anchor = document.createElement('a');\n",
              "    anchor.href = new URL(path, url).toString();\n",
              "    anchor.target = '_blank';\n",
              "    anchor.setAttribute('data-href', url + path);\n",
              "    anchor.textContent = text;\n",
              "    element.appendChild(anchor);\n",
              "  })(8050, \"/\", \"http://127.0.0.1:8050/\", window.element)"
            ]
          },
          "metadata": {}
        }
      ]
    },
    {
      "cell_type": "code",
      "source": [
        "# from jupyter_dash import JupyterDash\n",
        "# from dash import Dash, dcc, html, Input, Output, no_update\n",
        "# import plotly.graph_objects as go\n",
        "# import pandas as pd\n",
        "\n",
        "# ## create sample random data\n",
        "# df = pd.DataFrame({\n",
        "#     'x': [80,2,10],\n",
        "#     'y': [20,3,25],\n",
        "#     'color': ['red','green','blue'],\n",
        "#     'img_url': [\n",
        "#         \"https://upload.wikimedia.org/wikipedia/commons/0/03/Refugee_care_near_Poland_border_train_station_20220228.jpg\",\n",
        "#         \"https://upload.wikimedia.org/wikipedia/commons/4/45/Ukrainian_refugees_from_2022%2C_crossing_into_Poland.jpg\",\n",
        "#         \"https://upload.wikimedia.org/wikipedia/commons/b/b2/Warsaw_Central_Station_during_Ukrainian_refugee_crisis_10.jpg\"\n",
        "        \n",
        "#     ]\n",
        "# })\n",
        "\n",
        "# fig = go.Figure(data=[\n",
        "#     go.Scatter(\n",
        "#         x=df['x'], \n",
        "#         y=df['y'], \n",
        "#         mode='markers',\n",
        "#         marker=dict(color=df['color'])\n",
        "#     )\n",
        "# ])\n",
        "\n",
        "\n",
        "# fig.update_traces(hoverinfo=\"none\", hovertemplate=None)\n",
        "\n",
        "# app = JupyterDash(_name_)\n",
        "\n",
        "# server = app.server\n",
        "\n",
        "# app.layout = html.Div([\n",
        "#     dcc.Graph(id=\"graph-basic-2\", figure=fig, clear_on_unhover=True),\n",
        "#     dcc.Tooltip(id=\"graph-tooltip\", direction='bottom'),\n",
        "# ])\n",
        "\n",
        "\n",
        "# @app.callback(\n",
        "#     Output(\"graph-tooltip\", \"show\"),\n",
        "#     Output(\"graph-tooltip\", \"bbox\"),\n",
        "#     Output(\"graph-tooltip\", \"children\"),\n",
        "#     Output(\"graph-tooltip\", \"direction\"),\n",
        "    \n",
        "#     Input(\"graph-basic-2\", \"hoverData\"),\n",
        "# )\n",
        "# def display_hover(hoverData):\n",
        "#     if hoverData is None:\n",
        "#         return False, no_update, no_update ,no_update\n",
        "\n",
        "#     # demo only shows the first point, but other points may also be available\n",
        "#     pt = hoverData[\"points\"][0]\n",
        "#     bbox = pt[\"bbox\"]\n",
        "#     num = pt[\"pointNumber\"]\n",
        "    \n",
        "    \n",
        "    \n",
        "#     df_row = df.iloc[num]\n",
        "#     img_src = df_row['img_url']\n",
        "\n",
        "#     children = [\n",
        "#         html.Img(\n",
        "#             src=img_src,\n",
        "#             style={\"width\": \"250px\"},\n",
        "#         ),\n",
        "#         html.P(\"ukrain refugees\"),\n",
        "#     ]\n",
        "    \n",
        "#     y = hoverData[\"points\"][0]['y']\n",
        "#     direction = \"bottom\" if y > 2 else \"top\"\n",
        "    \n",
        "#     return True, bbox, children , direction\n",
        "\n",
        "# app.run_server(mode=\"inline\")"
      ],
      "metadata": {
        "id": "MeSZrLB3wGlW"
      },
      "execution_count": 1147,
      "outputs": []
    }
  ]
}