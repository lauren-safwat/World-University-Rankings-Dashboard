{
  "nbformat": 4,
  "nbformat_minor": 0,
  "metadata": {
    "colab": {
      "name": "World University Rankings.ipynb",
      "provenance": [],
      "include_colab_link": true
    },
    "kernelspec": {
      "name": "python3",
      "display_name": "Python 3"
    },
    "language_info": {
      "name": "python"
    }
  },
  "cells": [
    {
      "cell_type": "markdown",
      "metadata": {
        "id": "view-in-github",
        "colab_type": "text"
      },
      "source": [
        "<a href=\"https://colab.research.google.com/github/lauren-safwat/World-University-Rankings-Dashboard/blob/main/World_University_Rankings.ipynb\" target=\"_parent\"><img src=\"https://colab.research.google.com/assets/colab-badge.svg\" alt=\"Open In Colab\"/></a>"
      ]
    },
    {
      "cell_type": "code",
      "source": [
        "# !pip3 install dash\n",
        "# !pip3 install jupyter_dash\n",
        "# !pip3 install dash_bootstrap_components"
      ],
      "metadata": {
        "id": "X17hhcl0QFfi"
      },
      "execution_count": 21,
      "outputs": []
    },
    {
      "cell_type": "code",
      "execution_count": 22,
      "metadata": {
        "id": "ZnWq2iRlUMkG"
      },
      "outputs": [],
      "source": [
        "import pandas as pd\n",
        "import numpy as np\n",
        "import matplotlib.pyplot as plt\n",
        "import seaborn as sns\n",
        "sns.set_style('whitegrid')\n",
        "\n",
        "import jupyter_dash\n",
        "from dash import Dash, html, dcc\n",
        "from dash.dependencies import Input, Output, State\n",
        "import dash_bootstrap_components as dbc\n",
        "from dash.exceptions import PreventUpdate\n",
        "import plotly.express as px\n",
        "import plotly.graph_objs as go\n",
        "from datetime import date\n",
        "from datetime import datetime"
      ]
    },
    {
      "cell_type": "code",
      "source": [
        "unis = pd.read_csv('World_University_Rankings.csv')"
      ],
      "metadata": {
        "id": "NSkC410eb-kC"
      },
      "execution_count": 23,
      "outputs": []
    },
    {
      "cell_type": "code",
      "source": [
        "unis.info()"
      ],
      "metadata": {
        "colab": {
          "base_uri": "https://localhost:8080/"
        },
        "id": "VjsqprZsaNfW",
        "outputId": "25bf4d56-0c28-4730-a59b-74a3c2d8f395"
      },
      "execution_count": 24,
      "outputs": [
        {
          "output_type": "stream",
          "name": "stdout",
          "text": [
            "<class 'pandas.core.frame.DataFrame'>\n",
            "RangeIndex: 1373 entries, 0 to 1372\n",
            "Data columns (total 19 columns):\n",
            " #   Column                  Non-Null Count  Dtype  \n",
            "---  ------                  --------------  -----  \n",
            " 0   University              1373 non-null   object \n",
            " 1   Country                 1373 non-null   object \n",
            " 2   City                    1322 non-null   object \n",
            " 3   Region                  1373 non-null   object \n",
            " 4   Logo                    1373 non-null   object \n",
            " 5   Link                    1373 non-null   object \n",
            " 6   Type                    1373 non-null   object \n",
            " 7   Size                    1373 non-null   object \n",
            " 8   Faculty_count           1373 non-null   int64  \n",
            " 9   International_Students  1373 non-null   int64  \n",
            " 10  Students_count          1373 non-null   int64  \n",
            " 11  Rank_2017               1373 non-null   int64  \n",
            " 12  Rank_2018               1373 non-null   int64  \n",
            " 13  Rank_2019               1373 non-null   int64  \n",
            " 14  Rank_2020               1373 non-null   int64  \n",
            " 15  Rank_2021               1373 non-null   int64  \n",
            " 16  Rank_2022               1373 non-null   int64  \n",
            " 17  Latitude                550 non-null    float64\n",
            " 18  Longitude               550 non-null    float64\n",
            "dtypes: float64(2), int64(9), object(8)\n",
            "memory usage: 203.9+ KB\n"
          ]
        }
      ]
    },
    {
      "cell_type": "code",
      "source": [
        "app = jupyter_dash.JupyterDash(external_stylesheets=[dbc.themes.BOOTSTRAP])"
      ],
      "metadata": {
        "id": "aPKq_gZdY1VH"
      },
      "execution_count": 25,
      "outputs": []
    },
    {
      "cell_type": "code",
      "source": [
        "x = np.logical_and(unis['Country']=='Russia', unis['Rank_2022']>0)\n",
        "fig = px.scatter_mapbox(\n",
        "        unis[x].iloc[:100,:], lon='Longitude', lat='Latitude', color='Rank_2022', hover_name='University', size_max=40, hover_data=['Country'], zoom=3)\n",
        "fig.update_layout(mapbox_style=\"carto-positron\")\n",
        "fig.show()"
      ],
      "metadata": {
        "id": "gi8ILcT9waMV",
        "outputId": "b8ad2057-c437-4823-cd71-6d2a44cf5391",
        "colab": {
          "base_uri": "https://localhost:8080/",
          "height": 542
        }
      },
      "execution_count": 26,
      "outputs": [
        {
          "output_type": "display_data",
          "data": {
            "text/html": [
              "<html>\n",
              "<head><meta charset=\"utf-8\" /></head>\n",
              "<body>\n",
              "    <div>            <script src=\"https://cdnjs.cloudflare.com/ajax/libs/mathjax/2.7.5/MathJax.js?config=TeX-AMS-MML_SVG\"></script><script type=\"text/javascript\">if (window.MathJax) {MathJax.Hub.Config({SVG: {font: \"STIX-Web\"}});}</script>                <script type=\"text/javascript\">window.PlotlyConfig = {MathJaxConfig: 'local'};</script>\n",
              "        <script src=\"https://cdn.plot.ly/plotly-2.8.3.min.js\"></script>                <div id=\"41ad720f-72ba-4e77-8c64-2199bbdd64d2\" class=\"plotly-graph-div\" style=\"height:525px; width:100%;\"></div>            <script type=\"text/javascript\">                                    window.PLOTLYENV=window.PLOTLYENV || {};                                    if (document.getElementById(\"41ad720f-72ba-4e77-8c64-2199bbdd64d2\")) {                    Plotly.newPlot(                        \"41ad720f-72ba-4e77-8c64-2199bbdd64d2\",                        [{\"customdata\":[[\"Russia\"],[\"Russia\"],[\"Russia\"],[\"Russia\"],[\"Russia\"],[\"Russia\"],[\"Russia\"],[\"Russia\"],[\"Russia\"],[\"Russia\"],[\"Russia\"],[\"Russia\"],[\"Russia\"],[\"Russia\"],[\"Russia\"],[\"Russia\"],[\"Russia\"],[\"Russia\"],[\"Russia\"],[\"Russia\"],[\"Russia\"],[\"Russia\"],[\"Russia\"],[\"Russia\"],[\"Russia\"],[\"Russia\"],[\"Russia\"],[\"Russia\"],[\"Russia\"],[\"Russia\"],[\"Russia\"],[\"Russia\"],[\"Russia\"],[\"Russia\"],[\"Russia\"],[\"Russia\"],[\"Russia\"],[\"Russia\"],[\"Russia\"],[\"Russia\"],[\"Russia\"],[\"Russia\"],[\"Russia\"],[\"Russia\"],[\"Russia\"],[\"Russia\"],[\"Russia\"],[\"Russia\"]],\"hovertemplate\":\"<b>%{hovertext}</b><br><br>Latitude=%{lat}<br>Longitude=%{lon}<br>Country=%{customdata[0]}<br>Rank_2022=%{marker.color}<extra></extra>\",\"hovertext\":[\"Lomonosov Moscow State University\",\"Saint Petersburg State University\",\"Novosibirsk State University\",\"Tomsk State University\",\"Bauman Moscow State Technical University\",\"Moscow Institute of Physics and Technology (MIPT / Moscow Phystech)\",\"HSE University\",\"RUDN University\",\"National Research Nuclear University MEPhI (Moscow Engineering Physics Institute)\",\"Kazan (Volga region) Federal University\",\"Ural Federal University - UrFU\",\"MGIMO School of Business and International Proficiency\",\"ITMO University\",\"Peter the Great St. Petersburg Polytechnic University\",\"National Research Tomsk Polytechnic University\",\"Far Eastern Federal University\",\"The National University of Science and Technology MISIS\",\"National Research Saratov State University\",\"Southern Federal University\",\"Altai State University\",\"Samara National Research University (Samara University)\",\"Immanuel Kant Baltic Federal University\",\"Lobachevsky University\",\"Sechenov University\",\"Plekhanov Russian University of Economics\",\"Saint Petersburg Electrotechnical University ETU-LETI\",\"Ufa State Aviation Technical University \",\"Financial University under the Government of the Russian Federation\",\"Kazan National Research Technological University\",\"Mendeleev University of Chemical Technology\",\"Novosibirsk State Technical University\",\"Perm State National Research University\",\"Russian Presidential Academy of National Economy and Public Administration\",\"South Ural State University (National Research University)\",\"University of Tyumen\",\"Irkutsk State University\",\"Russian State University for the Humanities \",\"Saint-Petersburg Mining University\",\"Siberian Federal University, SibFU\",\"The Herzen State Pedagogical University of Russia\",\"The National Research University \\\"Belgorod State University\\\"\",\"Voronezh State University\",\" Don State Technical University\",\"MIREA - Russian Technological University\",\"Moscow City University\",\"Moscow Pedagogical State University\",\"National Research University Moscow Power Engineering Institute (MPEI)\",\"Russian State Agrarian University - Moscow Timiryazev Agricultural Academy\"],\"lat\":[55.7055406,59.9406818,54.84613395,56.4695875,55.76613777,55.929035,55.76157871,null,null,null,null,null,null,null,null,null,null,null,null,null,null,null,null,null,null,null,null,null,null,null,null,null,null,null,null,null,null,null,null,null,null,null,null,null,null,null,null,null],\"legendgroup\":\"\",\"lon\":[37.5360595,30.29648537,83.09421534,84.94677153,37.68502113,37.51866808,37.63397257,null,null,null,null,null,null,null,null,null,null,null,null,null,null,null,null,null,null,null,null,null,null,null,null,null,null,null,null,null,null,null,null,null,null,null,null,null,null,null,null,null],\"marker\":{\"color\":[78,243,247,274,283,291,306,318,320,348,352,363,366,394,396,461,487,531,531,563,583,652,652,652,704,704,704,800,800,800,800,800,800,800,800,1001,1001,1001,1001,1001,1001,1001,1203,1203,1203,1203,1203,1203],\"coloraxis\":\"coloraxis\"},\"mode\":\"markers\",\"name\":\"\",\"showlegend\":false,\"subplot\":\"mapbox\",\"type\":\"scattermapbox\"}],                        {\"template\":{\"data\":{\"bar\":[{\"error_x\":{\"color\":\"#2a3f5f\"},\"error_y\":{\"color\":\"#2a3f5f\"},\"marker\":{\"line\":{\"color\":\"#E5ECF6\",\"width\":0.5},\"pattern\":{\"fillmode\":\"overlay\",\"size\":10,\"solidity\":0.2}},\"type\":\"bar\"}],\"barpolar\":[{\"marker\":{\"line\":{\"color\":\"#E5ECF6\",\"width\":0.5},\"pattern\":{\"fillmode\":\"overlay\",\"size\":10,\"solidity\":0.2}},\"type\":\"barpolar\"}],\"carpet\":[{\"aaxis\":{\"endlinecolor\":\"#2a3f5f\",\"gridcolor\":\"white\",\"linecolor\":\"white\",\"minorgridcolor\":\"white\",\"startlinecolor\":\"#2a3f5f\"},\"baxis\":{\"endlinecolor\":\"#2a3f5f\",\"gridcolor\":\"white\",\"linecolor\":\"white\",\"minorgridcolor\":\"white\",\"startlinecolor\":\"#2a3f5f\"},\"type\":\"carpet\"}],\"choropleth\":[{\"colorbar\":{\"outlinewidth\":0,\"ticks\":\"\"},\"type\":\"choropleth\"}],\"contour\":[{\"colorbar\":{\"outlinewidth\":0,\"ticks\":\"\"},\"colorscale\":[[0.0,\"#0d0887\"],[0.1111111111111111,\"#46039f\"],[0.2222222222222222,\"#7201a8\"],[0.3333333333333333,\"#9c179e\"],[0.4444444444444444,\"#bd3786\"],[0.5555555555555556,\"#d8576b\"],[0.6666666666666666,\"#ed7953\"],[0.7777777777777778,\"#fb9f3a\"],[0.8888888888888888,\"#fdca26\"],[1.0,\"#f0f921\"]],\"type\":\"contour\"}],\"contourcarpet\":[{\"colorbar\":{\"outlinewidth\":0,\"ticks\":\"\"},\"type\":\"contourcarpet\"}],\"heatmap\":[{\"colorbar\":{\"outlinewidth\":0,\"ticks\":\"\"},\"colorscale\":[[0.0,\"#0d0887\"],[0.1111111111111111,\"#46039f\"],[0.2222222222222222,\"#7201a8\"],[0.3333333333333333,\"#9c179e\"],[0.4444444444444444,\"#bd3786\"],[0.5555555555555556,\"#d8576b\"],[0.6666666666666666,\"#ed7953\"],[0.7777777777777778,\"#fb9f3a\"],[0.8888888888888888,\"#fdca26\"],[1.0,\"#f0f921\"]],\"type\":\"heatmap\"}],\"heatmapgl\":[{\"colorbar\":{\"outlinewidth\":0,\"ticks\":\"\"},\"colorscale\":[[0.0,\"#0d0887\"],[0.1111111111111111,\"#46039f\"],[0.2222222222222222,\"#7201a8\"],[0.3333333333333333,\"#9c179e\"],[0.4444444444444444,\"#bd3786\"],[0.5555555555555556,\"#d8576b\"],[0.6666666666666666,\"#ed7953\"],[0.7777777777777778,\"#fb9f3a\"],[0.8888888888888888,\"#fdca26\"],[1.0,\"#f0f921\"]],\"type\":\"heatmapgl\"}],\"histogram\":[{\"marker\":{\"pattern\":{\"fillmode\":\"overlay\",\"size\":10,\"solidity\":0.2}},\"type\":\"histogram\"}],\"histogram2d\":[{\"colorbar\":{\"outlinewidth\":0,\"ticks\":\"\"},\"colorscale\":[[0.0,\"#0d0887\"],[0.1111111111111111,\"#46039f\"],[0.2222222222222222,\"#7201a8\"],[0.3333333333333333,\"#9c179e\"],[0.4444444444444444,\"#bd3786\"],[0.5555555555555556,\"#d8576b\"],[0.6666666666666666,\"#ed7953\"],[0.7777777777777778,\"#fb9f3a\"],[0.8888888888888888,\"#fdca26\"],[1.0,\"#f0f921\"]],\"type\":\"histogram2d\"}],\"histogram2dcontour\":[{\"colorbar\":{\"outlinewidth\":0,\"ticks\":\"\"},\"colorscale\":[[0.0,\"#0d0887\"],[0.1111111111111111,\"#46039f\"],[0.2222222222222222,\"#7201a8\"],[0.3333333333333333,\"#9c179e\"],[0.4444444444444444,\"#bd3786\"],[0.5555555555555556,\"#d8576b\"],[0.6666666666666666,\"#ed7953\"],[0.7777777777777778,\"#fb9f3a\"],[0.8888888888888888,\"#fdca26\"],[1.0,\"#f0f921\"]],\"type\":\"histogram2dcontour\"}],\"mesh3d\":[{\"colorbar\":{\"outlinewidth\":0,\"ticks\":\"\"},\"type\":\"mesh3d\"}],\"parcoords\":[{\"line\":{\"colorbar\":{\"outlinewidth\":0,\"ticks\":\"\"}},\"type\":\"parcoords\"}],\"pie\":[{\"automargin\":true,\"type\":\"pie\"}],\"scatter\":[{\"marker\":{\"colorbar\":{\"outlinewidth\":0,\"ticks\":\"\"}},\"type\":\"scatter\"}],\"scatter3d\":[{\"line\":{\"colorbar\":{\"outlinewidth\":0,\"ticks\":\"\"}},\"marker\":{\"colorbar\":{\"outlinewidth\":0,\"ticks\":\"\"}},\"type\":\"scatter3d\"}],\"scattercarpet\":[{\"marker\":{\"colorbar\":{\"outlinewidth\":0,\"ticks\":\"\"}},\"type\":\"scattercarpet\"}],\"scattergeo\":[{\"marker\":{\"colorbar\":{\"outlinewidth\":0,\"ticks\":\"\"}},\"type\":\"scattergeo\"}],\"scattergl\":[{\"marker\":{\"colorbar\":{\"outlinewidth\":0,\"ticks\":\"\"}},\"type\":\"scattergl\"}],\"scattermapbox\":[{\"marker\":{\"colorbar\":{\"outlinewidth\":0,\"ticks\":\"\"}},\"type\":\"scattermapbox\"}],\"scatterpolar\":[{\"marker\":{\"colorbar\":{\"outlinewidth\":0,\"ticks\":\"\"}},\"type\":\"scatterpolar\"}],\"scatterpolargl\":[{\"marker\":{\"colorbar\":{\"outlinewidth\":0,\"ticks\":\"\"}},\"type\":\"scatterpolargl\"}],\"scatterternary\":[{\"marker\":{\"colorbar\":{\"outlinewidth\":0,\"ticks\":\"\"}},\"type\":\"scatterternary\"}],\"surface\":[{\"colorbar\":{\"outlinewidth\":0,\"ticks\":\"\"},\"colorscale\":[[0.0,\"#0d0887\"],[0.1111111111111111,\"#46039f\"],[0.2222222222222222,\"#7201a8\"],[0.3333333333333333,\"#9c179e\"],[0.4444444444444444,\"#bd3786\"],[0.5555555555555556,\"#d8576b\"],[0.6666666666666666,\"#ed7953\"],[0.7777777777777778,\"#fb9f3a\"],[0.8888888888888888,\"#fdca26\"],[1.0,\"#f0f921\"]],\"type\":\"surface\"}],\"table\":[{\"cells\":{\"fill\":{\"color\":\"#EBF0F8\"},\"line\":{\"color\":\"white\"}},\"header\":{\"fill\":{\"color\":\"#C8D4E3\"},\"line\":{\"color\":\"white\"}},\"type\":\"table\"}]},\"layout\":{\"annotationdefaults\":{\"arrowcolor\":\"#2a3f5f\",\"arrowhead\":0,\"arrowwidth\":1},\"autotypenumbers\":\"strict\",\"coloraxis\":{\"colorbar\":{\"outlinewidth\":0,\"ticks\":\"\"}},\"colorscale\":{\"diverging\":[[0,\"#8e0152\"],[0.1,\"#c51b7d\"],[0.2,\"#de77ae\"],[0.3,\"#f1b6da\"],[0.4,\"#fde0ef\"],[0.5,\"#f7f7f7\"],[0.6,\"#e6f5d0\"],[0.7,\"#b8e186\"],[0.8,\"#7fbc41\"],[0.9,\"#4d9221\"],[1,\"#276419\"]],\"sequential\":[[0.0,\"#0d0887\"],[0.1111111111111111,\"#46039f\"],[0.2222222222222222,\"#7201a8\"],[0.3333333333333333,\"#9c179e\"],[0.4444444444444444,\"#bd3786\"],[0.5555555555555556,\"#d8576b\"],[0.6666666666666666,\"#ed7953\"],[0.7777777777777778,\"#fb9f3a\"],[0.8888888888888888,\"#fdca26\"],[1.0,\"#f0f921\"]],\"sequentialminus\":[[0.0,\"#0d0887\"],[0.1111111111111111,\"#46039f\"],[0.2222222222222222,\"#7201a8\"],[0.3333333333333333,\"#9c179e\"],[0.4444444444444444,\"#bd3786\"],[0.5555555555555556,\"#d8576b\"],[0.6666666666666666,\"#ed7953\"],[0.7777777777777778,\"#fb9f3a\"],[0.8888888888888888,\"#fdca26\"],[1.0,\"#f0f921\"]]},\"colorway\":[\"#636efa\",\"#EF553B\",\"#00cc96\",\"#ab63fa\",\"#FFA15A\",\"#19d3f3\",\"#FF6692\",\"#B6E880\",\"#FF97FF\",\"#FECB52\"],\"font\":{\"color\":\"#2a3f5f\"},\"geo\":{\"bgcolor\":\"white\",\"lakecolor\":\"white\",\"landcolor\":\"#E5ECF6\",\"showlakes\":true,\"showland\":true,\"subunitcolor\":\"white\"},\"hoverlabel\":{\"align\":\"left\"},\"hovermode\":\"closest\",\"mapbox\":{\"style\":\"light\"},\"paper_bgcolor\":\"white\",\"plot_bgcolor\":\"#E5ECF6\",\"polar\":{\"angularaxis\":{\"gridcolor\":\"white\",\"linecolor\":\"white\",\"ticks\":\"\"},\"bgcolor\":\"#E5ECF6\",\"radialaxis\":{\"gridcolor\":\"white\",\"linecolor\":\"white\",\"ticks\":\"\"}},\"scene\":{\"xaxis\":{\"backgroundcolor\":\"#E5ECF6\",\"gridcolor\":\"white\",\"gridwidth\":2,\"linecolor\":\"white\",\"showbackground\":true,\"ticks\":\"\",\"zerolinecolor\":\"white\"},\"yaxis\":{\"backgroundcolor\":\"#E5ECF6\",\"gridcolor\":\"white\",\"gridwidth\":2,\"linecolor\":\"white\",\"showbackground\":true,\"ticks\":\"\",\"zerolinecolor\":\"white\"},\"zaxis\":{\"backgroundcolor\":\"#E5ECF6\",\"gridcolor\":\"white\",\"gridwidth\":2,\"linecolor\":\"white\",\"showbackground\":true,\"ticks\":\"\",\"zerolinecolor\":\"white\"}},\"shapedefaults\":{\"line\":{\"color\":\"#2a3f5f\"}},\"ternary\":{\"aaxis\":{\"gridcolor\":\"white\",\"linecolor\":\"white\",\"ticks\":\"\"},\"baxis\":{\"gridcolor\":\"white\",\"linecolor\":\"white\",\"ticks\":\"\"},\"bgcolor\":\"#E5ECF6\",\"caxis\":{\"gridcolor\":\"white\",\"linecolor\":\"white\",\"ticks\":\"\"}},\"title\":{\"x\":0.05},\"xaxis\":{\"automargin\":true,\"gridcolor\":\"white\",\"linecolor\":\"white\",\"ticks\":\"\",\"title\":{\"standoff\":15},\"zerolinecolor\":\"white\",\"zerolinewidth\":2},\"yaxis\":{\"automargin\":true,\"gridcolor\":\"white\",\"linecolor\":\"white\",\"ticks\":\"\",\"title\":{\"standoff\":15},\"zerolinecolor\":\"white\",\"zerolinewidth\":2}}},\"mapbox\":{\"domain\":{\"x\":[0.0,1.0],\"y\":[0.0,1.0]},\"center\":{\"lat\":56.34552790428571,\"lon\":49.81588478857144},\"zoom\":3,\"style\":\"carto-positron\"},\"coloraxis\":{\"colorbar\":{\"title\":{\"text\":\"Rank_2022\"}},\"colorscale\":[[0.0,\"#0d0887\"],[0.1111111111111111,\"#46039f\"],[0.2222222222222222,\"#7201a8\"],[0.3333333333333333,\"#9c179e\"],[0.4444444444444444,\"#bd3786\"],[0.5555555555555556,\"#d8576b\"],[0.6666666666666666,\"#ed7953\"],[0.7777777777777778,\"#fb9f3a\"],[0.8888888888888888,\"#fdca26\"],[1.0,\"#f0f921\"]]},\"legend\":{\"tracegroupgap\":0},\"margin\":{\"t\":60}},                        {\"responsive\": true}                    ).then(function(){\n",
              "                            \n",
              "var gd = document.getElementById('41ad720f-72ba-4e77-8c64-2199bbdd64d2');\n",
              "var x = new MutationObserver(function (mutations, observer) {{\n",
              "        var display = window.getComputedStyle(gd).display;\n",
              "        if (!display || display === 'none') {{\n",
              "            console.log([gd, 'removed!']);\n",
              "            Plotly.purge(gd);\n",
              "            observer.disconnect();\n",
              "        }}\n",
              "}});\n",
              "\n",
              "// Listen for the removal of the full notebook cells\n",
              "var notebookContainer = gd.closest('#notebook-container');\n",
              "if (notebookContainer) {{\n",
              "    x.observe(notebookContainer, {childList: true});\n",
              "}}\n",
              "\n",
              "// Listen for the clearing of the current output cell\n",
              "var outputEl = gd.closest('.output');\n",
              "if (outputEl) {{\n",
              "    x.observe(outputEl, {childList: true});\n",
              "}}\n",
              "\n",
              "                        })                };                            </script>        </div>\n",
              "</body>\n",
              "</html>"
            ]
          },
          "metadata": {}
        }
      ]
    },
    {
      "cell_type": "code",
      "source": [
        "app.layout = html.Div(children=[\n",
        "    html.Div([\n",
        "        html.H1('Ranking of Universities Around the World'),\n",
        "        html.Div(dcc.Graph(id='map', figure={}))\n",
        "    ]),\n",
        "\n",
        "    html.Div([\n",
        "        dcc.Slider(id='mapSlider',\n",
        "                  min=2017,\n",
        "                  max=2022,\n",
        "                  value=2022,\n",
        "                  step=None,\n",
        "                  marks={i: str(i) for i in range(2017, 2023)}\n",
        "                  ),\n",
        "             \n",
        "        dcc.Dropdown([str(region) for region in unis['Region'].unique()], placeholder='Select Region', id='map_region'),\n",
        "        dcc.Dropdown(placeholder='Select Country', id='map_country'),\n",
        "    ])\n",
        "])"
      ],
      "metadata": {
        "id": "YWO657eKepOT"
      },
      "execution_count": 27,
      "outputs": []
    },
    {
      "cell_type": "code",
      "source": [
        "@app.callback(\n",
        "    Output('map_country', 'options'),\n",
        "    Output('map', 'figure'),\n",
        "    Input('mapSlider', 'value'),\n",
        "    Input('map_region', 'value'),\n",
        "    Input('map_country', 'value')\n",
        ")\n",
        "\n",
        "\n",
        "def updateMap(year, region, country):\n",
        "    df = unis[unis['Rank_' + str(year)] > 0]\n",
        "    print\n",
        "    zoom = 0.6\n",
        "\n",
        "    if region:\n",
        "        zoom = 1.8\n",
        "        df = df[df['Region'] == region]\n",
        "\n",
        "    if country:\n",
        "        zoom = 3\n",
        "        df = df[df['Country'] == country]\n",
        "\n",
        "    fig = px.scatter_mapbox(df.iloc[:100,:],\n",
        "                            lon='Longitude',\n",
        "                            lat='Latitude',\n",
        "                            color='Rank_'+str(year),\n",
        "                            hover_name='University',\n",
        "                            hover_data=['Country'],\n",
        "                            zoom=zoom,\n",
        "                            title = 'Ranking of Universities Around the World',\n",
        "                            mapbox_style='carto-positron')\n",
        "\n",
        "    countries = [{'label': str(i), 'value':str(i)} for i in df['Country'].unique()]\n",
        "    \n",
        "    return countries, fig"
      ],
      "metadata": {
        "id": "wAWl6M9LbdP7"
      },
      "execution_count": 28,
      "outputs": []
    },
    {
      "cell_type": "code",
      "source": [
        "app.run_server()"
      ],
      "metadata": {
        "colab": {
          "base_uri": "https://localhost:8080/",
          "height": 52
        },
        "id": "COkPFBnQfBRG",
        "outputId": "c7cd1bd8-4779-48d8-9df0-9fcbde2bc596"
      },
      "execution_count": 29,
      "outputs": [
        {
          "output_type": "stream",
          "name": "stdout",
          "text": [
            "Dash app running on:\n"
          ]
        },
        {
          "output_type": "display_data",
          "data": {
            "text/plain": [
              "<IPython.core.display.Javascript object>"
            ],
            "application/javascript": [
              "(async (port, path, text, element) => {\n",
              "    if (!google.colab.kernel.accessAllowed) {\n",
              "      return;\n",
              "    }\n",
              "    element.appendChild(document.createTextNode(''));\n",
              "    const url = await google.colab.kernel.proxyPort(port);\n",
              "    const anchor = document.createElement('a');\n",
              "    anchor.href = new URL(path, url).toString();\n",
              "    anchor.target = '_blank';\n",
              "    anchor.setAttribute('data-href', url + path);\n",
              "    anchor.textContent = text;\n",
              "    element.appendChild(anchor);\n",
              "  })(8050, \"/\", \"http://127.0.0.1:8050/\", window.element)"
            ]
          },
          "metadata": {}
        }
      ]
    },
    {
      "cell_type": "code",
      "source": [
        ""
      ],
      "metadata": {
        "id": "MeSZrLB3wGlW"
      },
      "execution_count": 29,
      "outputs": []
    }
  ]
}